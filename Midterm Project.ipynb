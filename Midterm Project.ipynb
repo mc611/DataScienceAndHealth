{
 "cells": [
  {
   "cell_type": "markdown",
   "metadata": {},
   "source": [
    "# BME 590 Data Science and Health\n",
    "## Midterm Project"
   ]
  },
  {
   "cell_type": "markdown",
   "metadata": {},
   "source": [
    "For the midterm project, you will be putting many of the skills that we have covered in the course so far to create a clinical risk prediction score. Please follow the instructions in this notebook carefully to make sure that you receive full credit for this assignment."
   ]
  },
  {
   "cell_type": "markdown",
   "metadata": {},
   "source": [
    "### Background"
   ]
  },
  {
   "cell_type": "markdown",
   "metadata": {},
   "source": [
    "In 1987, a paper was published in the *Journal of Chronic Disease* titled *A New Method of Classifying Prognostic Comorbidity in Longitudinal Studies: Development and Validation*. This was one of the first papers that created a clinical risk score that could be easily computed and could predict clinical outcomes. To give you an idea of how popular this score is, it has been cited 27,497 times at the time that this assignment was created. As a note, comorbidity describes how many different diseases a patient has. "
   ]
  },
  {
   "cell_type": "markdown",
   "metadata": {},
   "source": [
    "In 1987, statistical methods were not as easy to apply as they are today. In addition, data were much harder to come by and to analyze. Due to the improvement of computing power and general statistical practice, it is now much easier to create clinical risk scores than in the past. This will your primary task in this assignment."
   ]
  },
  {
   "cell_type": "markdown",
   "metadata": {},
   "source": [
    "## Task 1: Background"
   ]
  },
  {
   "cell_type": "markdown",
   "metadata": {},
   "source": [
    "Before you begin creating your own version of the Charlson Comorbidity Index, as it is known, it is important to familiarize yourself with the paper. A copy of it can be found [here](http://www.aqc.ch/download/HSM_Suppl_8_charlson.pdf). "
   ]
  },
  {
   "cell_type": "markdown",
   "metadata": {},
   "source": [
    "### Answer the following questions:"
   ]
  },
  {
   "cell_type": "markdown",
   "metadata": {},
   "source": [
    "#### How many patients' data were used to create the model?"
   ]
  },
  {
   "cell_type": "markdown",
   "metadata": {},
   "source": [
    "training: 559\n",
    "testing: 685"
   ]
  },
  {
   "cell_type": "markdown",
   "metadata": {},
   "source": [
    "#### What time frame were the data from?"
   ]
  },
  {
   "cell_type": "markdown",
   "metadata": {},
   "source": [
    "1 month period in 1984 for admission and 1 year follow-up."
   ]
  },
  {
   "cell_type": "markdown",
   "metadata": {},
   "source": [
    "#### How was the model validated?"
   ]
  },
  {
   "cell_type": "markdown",
   "metadata": {},
   "source": [
    "Applied the model to predict risk of death from comorbid disease of 685 patients who were treated with primary breast cancer and compared with Kaplan and Feinstein method"
   ]
  },
  {
   "cell_type": "markdown",
   "metadata": {},
   "source": [
    "#### How many patients were used to validate the model results?"
   ]
  },
  {
   "cell_type": "markdown",
   "metadata": {},
   "source": [
    " 685"
   ]
  },
  {
   "cell_type": "markdown",
   "metadata": {},
   "source": [
    "#### What were the characteristics of patients in the \"Testing population\"?"
   ]
  },
  {
   "cell_type": "markdown",
   "metadata": {},
   "source": [
    "The cohort consisted of all 685 women with histologically proven primary carcinoma of the breast, who received their first treament at Yale New Haven Hospital between 1 Jan 1962 and 31 Dec 1969"
   ]
  },
  {
   "cell_type": "markdown",
   "metadata": {},
   "source": [
    "___"
   ]
  },
  {
   "cell_type": "markdown",
   "metadata": {},
   "source": [
    "In the original paper, the conditions listed are not coded in any way. Follow-up papers by [Deyo in 1992](https://www.ncbi.nlm.nih.gov/pubmed/1607900) and [Quan in 2005](https://www.ncbi.nlm.nih.gov/pubmed/16224307), added the ICD-9-CM groupings for the conditions listed in the Charlson Comorbidity Index. In the provided database, a lookup between condition category and code has been provided."
   ]
  },
  {
   "cell_type": "markdown",
   "metadata": {},
   "source": [
    "## Task 2: Exploratory Data Analysis and SQL"
   ]
  },
  {
   "cell_type": "markdown",
   "metadata": {},
   "source": [
    "For this project, the data is located [here](https://duke.box.com/s/vx627f0cypndusbl2k6jyqp9vo33d15g). Please download the database and put it in the same directory as this notebook (or in its own separate directory if you choose). **Make sure you add the database to the provided .gitignore file**. \n",
    "\n",
    "### DO NOT COMMIT THE DB FILE"
   ]
  },
  {
   "cell_type": "markdown",
   "metadata": {},
   "source": [
    "##### Create a connection to the database and complete the following tasks/answer the questions using SQL queries. Remember that you can make a SQL query to the database with the following syntax:\n",
    "\n",
    "`pd.read_sql(\"\"\" YOUR SQL QUERY \"\"\", conn)`"
   ]
  },
  {
   "cell_type": "code",
   "execution_count": 1,
   "metadata": {},
   "outputs": [
    {
     "data": {
      "text/plain": [
       "<sqlite3.Connection at 0x10bf25650>"
      ]
     },
     "execution_count": 1,
     "metadata": {},
     "output_type": "execute_result"
    }
   ],
   "source": [
    "import sqlite3 # library for working with sqlite database\n",
    "conn = sqlite3.connect(\"mimic_subset.db\") # Create a connection to the on-disk database\n",
    "\n",
    "import pandas as pd\n",
    "\n",
    "conn"
   ]
  },
  {
   "cell_type": "markdown",
   "metadata": {},
   "source": [
    "### General"
   ]
  },
  {
   "cell_type": "markdown",
   "metadata": {},
   "source": [
    "#### List the tables"
   ]
  },
  {
   "cell_type": "code",
   "execution_count": 2,
   "metadata": {
    "scrolled": true
   },
   "outputs": [
    {
     "data": {
      "text/html": [
       "<div>\n",
       "<style scoped>\n",
       "    .dataframe tbody tr th:only-of-type {\n",
       "        vertical-align: middle;\n",
       "    }\n",
       "\n",
       "    .dataframe tbody tr th {\n",
       "        vertical-align: top;\n",
       "    }\n",
       "\n",
       "    .dataframe thead th {\n",
       "        text-align: right;\n",
       "    }\n",
       "</style>\n",
       "<table border=\"1\" class=\"dataframe\">\n",
       "  <thead>\n",
       "    <tr style=\"text-align: right;\">\n",
       "      <th></th>\n",
       "      <th>type</th>\n",
       "      <th>name</th>\n",
       "      <th>tbl_name</th>\n",
       "      <th>rootpage</th>\n",
       "      <th>sql</th>\n",
       "    </tr>\n",
       "  </thead>\n",
       "  <tbody>\n",
       "    <tr>\n",
       "      <th>0</th>\n",
       "      <td>table</td>\n",
       "      <td>admission</td>\n",
       "      <td>admission</td>\n",
       "      <td>2</td>\n",
       "      <td>CREATE TABLE \"admission\" (\\n\"index\" INTEGER,\\n...</td>\n",
       "    </tr>\n",
       "    <tr>\n",
       "      <th>1</th>\n",
       "      <td>table</td>\n",
       "      <td>diagnosis</td>\n",
       "      <td>diagnosis</td>\n",
       "      <td>1233</td>\n",
       "      <td>CREATE TABLE \"diagnosis\" (\\n\"index\" INTEGER,\\n...</td>\n",
       "    </tr>\n",
       "    <tr>\n",
       "      <th>2</th>\n",
       "      <td>table</td>\n",
       "      <td>charlson_codes</td>\n",
       "      <td>charlson_codes</td>\n",
       "      <td>4982</td>\n",
       "      <td>CREATE TABLE \"charlson_codes\" (\\n\"index\" INTEG...</td>\n",
       "    </tr>\n",
       "    <tr>\n",
       "      <th>3</th>\n",
       "      <td>table</td>\n",
       "      <td>patient</td>\n",
       "      <td>patient</td>\n",
       "      <td>5087</td>\n",
       "      <td>CREATE TABLE \"patient\" (\\n\"index\" INTEGER,\\n  ...</td>\n",
       "    </tr>\n",
       "  </tbody>\n",
       "</table>\n",
       "</div>"
      ],
      "text/plain": [
       "    type            name        tbl_name  rootpage  \\\n",
       "0  table       admission       admission         2   \n",
       "1  table       diagnosis       diagnosis      1233   \n",
       "2  table  charlson_codes  charlson_codes      4982   \n",
       "3  table         patient         patient      5087   \n",
       "\n",
       "                                                 sql  \n",
       "0  CREATE TABLE \"admission\" (\\n\"index\" INTEGER,\\n...  \n",
       "1  CREATE TABLE \"diagnosis\" (\\n\"index\" INTEGER,\\n...  \n",
       "2  CREATE TABLE \"charlson_codes\" (\\n\"index\" INTEG...  \n",
       "3  CREATE TABLE \"patient\" (\\n\"index\" INTEGER,\\n  ...  "
      ]
     },
     "execution_count": 2,
     "metadata": {},
     "output_type": "execute_result"
    }
   ],
   "source": [
    "pd.read_sql(\"SELECT * FROM sqlite_master where type='table'\", conn)"
   ]
  },
  {
   "cell_type": "markdown",
   "metadata": {},
   "source": [
    "#### For each table, select a small number of records (rows) and display the columns"
   ]
  },
  {
   "cell_type": "code",
   "execution_count": 3,
   "metadata": {
    "scrolled": false
   },
   "outputs": [
    {
     "data": {
      "text/html": [
       "<div>\n",
       "<style scoped>\n",
       "    .dataframe tbody tr th:only-of-type {\n",
       "        vertical-align: middle;\n",
       "    }\n",
       "\n",
       "    .dataframe tbody tr th {\n",
       "        vertical-align: top;\n",
       "    }\n",
       "\n",
       "    .dataframe thead th {\n",
       "        text-align: right;\n",
       "    }\n",
       "</style>\n",
       "<table border=\"1\" class=\"dataframe\">\n",
       "  <thead>\n",
       "    <tr style=\"text-align: right;\">\n",
       "      <th></th>\n",
       "      <th>index</th>\n",
       "      <th>Unnamed: 0</th>\n",
       "      <th>ROW_ID</th>\n",
       "      <th>SUBJECT_ID</th>\n",
       "      <th>HADM_ID</th>\n",
       "      <th>ADMITTIME</th>\n",
       "      <th>DISCHTIME</th>\n",
       "      <th>DEATHTIME</th>\n",
       "      <th>ADMISSION_TYPE</th>\n",
       "      <th>ADMISSION_LOCATION</th>\n",
       "      <th>...</th>\n",
       "      <th>INSURANCE</th>\n",
       "      <th>LANGUAGE</th>\n",
       "      <th>RELIGION</th>\n",
       "      <th>MARITAL_STATUS</th>\n",
       "      <th>ETHNICITY</th>\n",
       "      <th>EDREGTIME</th>\n",
       "      <th>EDOUTTIME</th>\n",
       "      <th>DIAGNOSIS</th>\n",
       "      <th>HOSPITAL_EXPIRE_FLAG</th>\n",
       "      <th>HAS_CHARTEVENTS_DATA</th>\n",
       "    </tr>\n",
       "  </thead>\n",
       "  <tbody>\n",
       "    <tr>\n",
       "      <th>0</th>\n",
       "      <td>0</td>\n",
       "      <td>2</td>\n",
       "      <td>23</td>\n",
       "      <td>23</td>\n",
       "      <td>124321</td>\n",
       "      <td>2157-10-18 19:34:00</td>\n",
       "      <td>2157-10-25 14:00:00</td>\n",
       "      <td>None</td>\n",
       "      <td>EMERGENCY</td>\n",
       "      <td>TRANSFER FROM HOSP/EXTRAM</td>\n",
       "      <td>...</td>\n",
       "      <td>Medicare</td>\n",
       "      <td>ENGL</td>\n",
       "      <td>CATHOLIC</td>\n",
       "      <td>MARRIED</td>\n",
       "      <td>WHITE</td>\n",
       "      <td>None</td>\n",
       "      <td>None</td>\n",
       "      <td>BRAIN MASS</td>\n",
       "      <td>0</td>\n",
       "      <td>1</td>\n",
       "    </tr>\n",
       "  </tbody>\n",
       "</table>\n",
       "<p>1 rows × 21 columns</p>\n",
       "</div>"
      ],
      "text/plain": [
       "   index  Unnamed: 0  ROW_ID  SUBJECT_ID  HADM_ID            ADMITTIME  \\\n",
       "0      0           2      23          23   124321  2157-10-18 19:34:00   \n",
       "\n",
       "             DISCHTIME DEATHTIME ADMISSION_TYPE         ADMISSION_LOCATION  \\\n",
       "0  2157-10-25 14:00:00      None      EMERGENCY  TRANSFER FROM HOSP/EXTRAM   \n",
       "\n",
       "           ...          INSURANCE LANGUAGE  RELIGION MARITAL_STATUS ETHNICITY  \\\n",
       "0          ...           Medicare     ENGL  CATHOLIC        MARRIED     WHITE   \n",
       "\n",
       "  EDREGTIME EDOUTTIME   DIAGNOSIS HOSPITAL_EXPIRE_FLAG  HAS_CHARTEVENTS_DATA  \n",
       "0      None      None  BRAIN MASS                    0                     1  \n",
       "\n",
       "[1 rows x 21 columns]"
      ]
     },
     "execution_count": 3,
     "metadata": {},
     "output_type": "execute_result"
    }
   ],
   "source": [
    "pd.read_sql(\"\"\"SELECT * \n",
    "            FROM admission\n",
    "            limit 1\n",
    "\"\"\", conn)"
   ]
  },
  {
   "cell_type": "code",
   "execution_count": 4,
   "metadata": {},
   "outputs": [
    {
     "data": {
      "text/html": [
       "<div>\n",
       "<style scoped>\n",
       "    .dataframe tbody tr th:only-of-type {\n",
       "        vertical-align: middle;\n",
       "    }\n",
       "\n",
       "    .dataframe tbody tr th {\n",
       "        vertical-align: top;\n",
       "    }\n",
       "\n",
       "    .dataframe thead th {\n",
       "        text-align: right;\n",
       "    }\n",
       "</style>\n",
       "<table border=\"1\" class=\"dataframe\">\n",
       "  <thead>\n",
       "    <tr style=\"text-align: right;\">\n",
       "      <th></th>\n",
       "      <th>index</th>\n",
       "      <th>Unnamed: 0</th>\n",
       "      <th>ROW_ID</th>\n",
       "      <th>SUBJECT_ID</th>\n",
       "      <th>HADM_ID</th>\n",
       "      <th>SEQ_NUM</th>\n",
       "      <th>ICD9_CODE</th>\n",
       "    </tr>\n",
       "  </thead>\n",
       "  <tbody>\n",
       "    <tr>\n",
       "      <th>0</th>\n",
       "      <td>0</td>\n",
       "      <td>0</td>\n",
       "      <td>1297</td>\n",
       "      <td>109</td>\n",
       "      <td>172335</td>\n",
       "      <td>1.0</td>\n",
       "      <td>40301</td>\n",
       "    </tr>\n",
       "  </tbody>\n",
       "</table>\n",
       "</div>"
      ],
      "text/plain": [
       "   index  Unnamed: 0  ROW_ID  SUBJECT_ID  HADM_ID  SEQ_NUM ICD9_CODE\n",
       "0      0           0    1297         109   172335      1.0     40301"
      ]
     },
     "execution_count": 4,
     "metadata": {},
     "output_type": "execute_result"
    }
   ],
   "source": [
    "pd.read_sql(\"\"\"SELECT * \n",
    "            FROM diagnosis\n",
    "            limit 1\n",
    "\"\"\", conn)"
   ]
  },
  {
   "cell_type": "code",
   "execution_count": 5,
   "metadata": {},
   "outputs": [
    {
     "data": {
      "text/html": [
       "<div>\n",
       "<style scoped>\n",
       "    .dataframe tbody tr th:only-of-type {\n",
       "        vertical-align: middle;\n",
       "    }\n",
       "\n",
       "    .dataframe tbody tr th {\n",
       "        vertical-align: top;\n",
       "    }\n",
       "\n",
       "    .dataframe thead th {\n",
       "        text-align: right;\n",
       "    }\n",
       "</style>\n",
       "<table border=\"1\" class=\"dataframe\">\n",
       "  <thead>\n",
       "    <tr style=\"text-align: right;\">\n",
       "      <th></th>\n",
       "      <th>index</th>\n",
       "      <th>code</th>\n",
       "      <th>category</th>\n",
       "    </tr>\n",
       "  </thead>\n",
       "  <tbody>\n",
       "    <tr>\n",
       "      <th>0</th>\n",
       "      <td>0</td>\n",
       "      <td>410</td>\n",
       "      <td>MI</td>\n",
       "    </tr>\n",
       "  </tbody>\n",
       "</table>\n",
       "</div>"
      ],
      "text/plain": [
       "   index code category\n",
       "0      0  410       MI"
      ]
     },
     "execution_count": 5,
     "metadata": {},
     "output_type": "execute_result"
    }
   ],
   "source": [
    "pd.read_sql(\"\"\"SELECT * \n",
    "            FROM charlson_codes\n",
    "            limit 1\n",
    "\"\"\", conn)"
   ]
  },
  {
   "cell_type": "code",
   "execution_count": 6,
   "metadata": {},
   "outputs": [
    {
     "data": {
      "text/html": [
       "<div>\n",
       "<style scoped>\n",
       "    .dataframe tbody tr th:only-of-type {\n",
       "        vertical-align: middle;\n",
       "    }\n",
       "\n",
       "    .dataframe tbody tr th {\n",
       "        vertical-align: top;\n",
       "    }\n",
       "\n",
       "    .dataframe thead th {\n",
       "        text-align: right;\n",
       "    }\n",
       "</style>\n",
       "<table border=\"1\" class=\"dataframe\">\n",
       "  <thead>\n",
       "    <tr style=\"text-align: right;\">\n",
       "      <th></th>\n",
       "      <th>index</th>\n",
       "      <th>ROW_ID</th>\n",
       "      <th>SUBJECT_ID</th>\n",
       "      <th>GENDER</th>\n",
       "      <th>DOB</th>\n",
       "      <th>DOD</th>\n",
       "      <th>DOD_HOSP</th>\n",
       "      <th>DOD_SSN</th>\n",
       "      <th>EXPIRE_FLAG</th>\n",
       "    </tr>\n",
       "  </thead>\n",
       "  <tbody>\n",
       "    <tr>\n",
       "      <th>0</th>\n",
       "      <td>0</td>\n",
       "      <td>234</td>\n",
       "      <td>249</td>\n",
       "      <td>F</td>\n",
       "      <td>2075-03-13 00:00:00</td>\n",
       "      <td>None</td>\n",
       "      <td>None</td>\n",
       "      <td>None</td>\n",
       "      <td>0</td>\n",
       "    </tr>\n",
       "  </tbody>\n",
       "</table>\n",
       "</div>"
      ],
      "text/plain": [
       "   index  ROW_ID  SUBJECT_ID GENDER                  DOB   DOD DOD_HOSP  \\\n",
       "0      0     234         249      F  2075-03-13 00:00:00  None     None   \n",
       "\n",
       "  DOD_SSN  EXPIRE_FLAG  \n",
       "0    None            0  "
      ]
     },
     "execution_count": 6,
     "metadata": {},
     "output_type": "execute_result"
    }
   ],
   "source": [
    "pd.read_sql(\"\"\"SELECT * \n",
    "            FROM patient\n",
    "            limit 1\n",
    "\"\"\", conn)"
   ]
  },
  {
   "cell_type": "markdown",
   "metadata": {},
   "source": [
    "### Patients:"
   ]
  },
  {
   "cell_type": "markdown",
   "metadata": {},
   "source": [
    "#### What is the breakdown of gender for patients?"
   ]
  },
  {
   "cell_type": "code",
   "execution_count": 7,
   "metadata": {
    "scrolled": true
   },
   "outputs": [
    {
     "data": {
      "text/plain": [
       "M    26121\n",
       "F    20399\n",
       "Name: GENDER, dtype: int64"
      ]
     },
     "execution_count": 7,
     "metadata": {},
     "output_type": "execute_result"
    }
   ],
   "source": [
    "pd.read_sql(\"\"\"SELECT GENDER \n",
    "               from patient\n",
    "\"\"\",conn)['GENDER'].value_counts()"
   ]
  },
  {
   "cell_type": "markdown",
   "metadata": {},
   "source": [
    "#### Of the patients in the patients table, how many of them have a death date listed? "
   ]
  },
  {
   "cell_type": "code",
   "execution_count": 8,
   "metadata": {},
   "outputs": [
    {
     "data": {
      "text/plain": [
       "DOD    15759\n",
       "dtype: int64"
      ]
     },
     "execution_count": 8,
     "metadata": {},
     "output_type": "execute_result"
    }
   ],
   "source": [
    "pd.read_sql(\"\"\"SELECT DOD \n",
    "            FROM patient\n",
    "            WHERE DOD IS NOT NULL\"\"\", \n",
    "            conn).count()"
   ]
  },
  {
   "cell_type": "markdown",
   "metadata": {},
   "source": [
    "### Admissions:"
   ]
  },
  {
   "cell_type": "markdown",
   "metadata": {},
   "source": [
    "#### How many unique patients are there in the admissions dataset?"
   ]
  },
  {
   "cell_type": "code",
   "execution_count": 9,
   "metadata": {},
   "outputs": [
    {
     "data": {
      "text/plain": [
       "SUBJECT_ID    17680\n",
       "dtype: int64"
      ]
     },
     "execution_count": 9,
     "metadata": {},
     "output_type": "execute_result"
    }
   ],
   "source": [
    "pd.read_sql(\"\"\"SELECT DISTINCT SUBJECT_ID\n",
    "               FROM admission\n",
    "\"\"\",conn).count()"
   ]
  },
  {
   "cell_type": "markdown",
   "metadata": {},
   "source": [
    "#### How many unique encounters are there in this dataset?"
   ]
  },
  {
   "cell_type": "code",
   "execution_count": 10,
   "metadata": {
    "scrolled": true
   },
   "outputs": [
    {
     "data": {
      "text/plain": [
       "HADM_ID    21879\n",
       "dtype: int64"
      ]
     },
     "execution_count": 10,
     "metadata": {},
     "output_type": "execute_result"
    }
   ],
   "source": [
    "pd.read_sql(\"\"\"SELECT DISTINCT HADM_ID\n",
    "               FROM admission\n",
    "\"\"\",conn).count()"
   ]
  },
  {
   "cell_type": "markdown",
   "metadata": {},
   "source": [
    "#### How many encounters have an ED time (either registration or out) listed?"
   ]
  },
  {
   "cell_type": "code",
   "execution_count": 11,
   "metadata": {},
   "outputs": [
    {
     "data": {
      "text/plain": [
       "HADM_ID      14495\n",
       "EDREGTIME    14495\n",
       "EDOUTTIME    14495\n",
       "dtype: int64"
      ]
     },
     "execution_count": 11,
     "metadata": {},
     "output_type": "execute_result"
    }
   ],
   "source": [
    "pd.read_sql(\"\"\"select HADM_ID, EDREGTIME, EDOUTTIME \n",
    "               from admission \n",
    "               where EDREGTIME is not null or EDOUTTIME is not null\n",
    "               group by HADM_ID\"\"\",conn).count()"
   ]
  },
  {
   "cell_type": "markdown",
   "metadata": {},
   "source": [
    "#### List the primary diagnoses (Diagnosis field) in order of their prevalence"
   ]
  },
  {
   "cell_type": "code",
   "execution_count": 12,
   "metadata": {},
   "outputs": [
    {
     "data": {
      "text/html": [
       "<div>\n",
       "<style scoped>\n",
       "    .dataframe tbody tr th:only-of-type {\n",
       "        vertical-align: middle;\n",
       "    }\n",
       "\n",
       "    .dataframe tbody tr th {\n",
       "        vertical-align: top;\n",
       "    }\n",
       "\n",
       "    .dataframe thead th {\n",
       "        text-align: right;\n",
       "    }\n",
       "</style>\n",
       "<table border=\"1\" class=\"dataframe\">\n",
       "  <thead>\n",
       "    <tr style=\"text-align: right;\">\n",
       "      <th></th>\n",
       "      <th>DIAGNOSIS</th>\n",
       "      <th>number_of_diagnosis</th>\n",
       "    </tr>\n",
       "  </thead>\n",
       "  <tbody>\n",
       "    <tr>\n",
       "      <th>0</th>\n",
       "      <td>PNEUMONIA</td>\n",
       "      <td>969</td>\n",
       "    </tr>\n",
       "    <tr>\n",
       "      <th>1</th>\n",
       "      <td>SEPSIS</td>\n",
       "      <td>501</td>\n",
       "    </tr>\n",
       "    <tr>\n",
       "      <th>2</th>\n",
       "      <td>ALTERED MENTAL STATUS</td>\n",
       "      <td>477</td>\n",
       "    </tr>\n",
       "    <tr>\n",
       "      <th>3</th>\n",
       "      <td>INTRACRANIAL HEMORRHAGE</td>\n",
       "      <td>441</td>\n",
       "    </tr>\n",
       "    <tr>\n",
       "      <th>4</th>\n",
       "      <td>CONGESTIVE HEART FAILURE</td>\n",
       "      <td>418</td>\n",
       "    </tr>\n",
       "    <tr>\n",
       "      <th>5</th>\n",
       "      <td>UPPER GI BLEED</td>\n",
       "      <td>385</td>\n",
       "    </tr>\n",
       "    <tr>\n",
       "      <th>6</th>\n",
       "      <td>CORONARY ARTERY DISEASE\\CORONARY ARTERY BYPASS...</td>\n",
       "      <td>378</td>\n",
       "    </tr>\n",
       "    <tr>\n",
       "      <th>7</th>\n",
       "      <td>CHEST PAIN</td>\n",
       "      <td>353</td>\n",
       "    </tr>\n",
       "    <tr>\n",
       "      <th>8</th>\n",
       "      <td>ABDOMINAL PAIN</td>\n",
       "      <td>313</td>\n",
       "    </tr>\n",
       "    <tr>\n",
       "      <th>9</th>\n",
       "      <td>CORONARY ARTERY DISEASE</td>\n",
       "      <td>302</td>\n",
       "    </tr>\n",
       "  </tbody>\n",
       "</table>\n",
       "</div>"
      ],
      "text/plain": [
       "                                           DIAGNOSIS  number_of_diagnosis\n",
       "0                                          PNEUMONIA                  969\n",
       "1                                             SEPSIS                  501\n",
       "2                              ALTERED MENTAL STATUS                  477\n",
       "3                            INTRACRANIAL HEMORRHAGE                  441\n",
       "4                           CONGESTIVE HEART FAILURE                  418\n",
       "5                                     UPPER GI BLEED                  385\n",
       "6  CORONARY ARTERY DISEASE\\CORONARY ARTERY BYPASS...                  378\n",
       "7                                         CHEST PAIN                  353\n",
       "8                                     ABDOMINAL PAIN                  313\n",
       "9                            CORONARY ARTERY DISEASE                  302"
      ]
     },
     "execution_count": 12,
     "metadata": {},
     "output_type": "execute_result"
    }
   ],
   "source": [
    "pd.read_sql(\"\"\"select DIAGNOSIS, count(DIAGNOSIS) number_of_diagnosis\n",
    "               from admission\n",
    "               group by DIAGNOSIS\n",
    "               order by number_of_diagnosis desc\n",
    "               limit 10\n",
    "\"\"\",conn)"
   ]
  },
  {
   "cell_type": "markdown",
   "metadata": {},
   "source": [
    "#### Now list the count of diagnoses along with the diagnosis name only for patients who died in their hospital stay in descending order"
   ]
  },
  {
   "cell_type": "code",
   "execution_count": 13,
   "metadata": {},
   "outputs": [
    {
     "data": {
      "text/html": [
       "<div>\n",
       "<style scoped>\n",
       "    .dataframe tbody tr th:only-of-type {\n",
       "        vertical-align: middle;\n",
       "    }\n",
       "\n",
       "    .dataframe tbody tr th {\n",
       "        vertical-align: top;\n",
       "    }\n",
       "\n",
       "    .dataframe thead th {\n",
       "        text-align: right;\n",
       "    }\n",
       "</style>\n",
       "<table border=\"1\" class=\"dataframe\">\n",
       "  <thead>\n",
       "    <tr style=\"text-align: right;\">\n",
       "      <th></th>\n",
       "      <th>DIAGNOSIS</th>\n",
       "      <th>number_of_diagnosis</th>\n",
       "    </tr>\n",
       "  </thead>\n",
       "  <tbody>\n",
       "    <tr>\n",
       "      <th>0</th>\n",
       "      <td>PNEUMONIA</td>\n",
       "      <td>149</td>\n",
       "    </tr>\n",
       "    <tr>\n",
       "      <th>1</th>\n",
       "      <td>INTRACRANIAL HEMORRHAGE</td>\n",
       "      <td>137</td>\n",
       "    </tr>\n",
       "    <tr>\n",
       "      <th>2</th>\n",
       "      <td>SEPSIS</td>\n",
       "      <td>100</td>\n",
       "    </tr>\n",
       "    <tr>\n",
       "      <th>3</th>\n",
       "      <td>ALTERED MENTAL STATUS</td>\n",
       "      <td>54</td>\n",
       "    </tr>\n",
       "    <tr>\n",
       "      <th>4</th>\n",
       "      <td>CONGESTIVE HEART FAILURE</td>\n",
       "      <td>49</td>\n",
       "    </tr>\n",
       "    <tr>\n",
       "      <th>5</th>\n",
       "      <td>STROKE;TELEMETRY;TRANSIENT ISCHEMIC ATTACK</td>\n",
       "      <td>44</td>\n",
       "    </tr>\n",
       "    <tr>\n",
       "      <th>6</th>\n",
       "      <td>CARDIAC ARREST</td>\n",
       "      <td>39</td>\n",
       "    </tr>\n",
       "    <tr>\n",
       "      <th>7</th>\n",
       "      <td>ABDOMINAL PAIN</td>\n",
       "      <td>37</td>\n",
       "    </tr>\n",
       "    <tr>\n",
       "      <th>8</th>\n",
       "      <td>HYPOTENSION</td>\n",
       "      <td>32</td>\n",
       "    </tr>\n",
       "    <tr>\n",
       "      <th>9</th>\n",
       "      <td>S/P FALL</td>\n",
       "      <td>32</td>\n",
       "    </tr>\n",
       "    <tr>\n",
       "      <th>10</th>\n",
       "      <td>UPPER GI BLEED</td>\n",
       "      <td>31</td>\n",
       "    </tr>\n",
       "    <tr>\n",
       "      <th>11</th>\n",
       "      <td>DYSPNEA</td>\n",
       "      <td>29</td>\n",
       "    </tr>\n",
       "    <tr>\n",
       "      <th>12</th>\n",
       "      <td>SUBARACHNOID HEMORRHAGE</td>\n",
       "      <td>28</td>\n",
       "    </tr>\n",
       "    <tr>\n",
       "      <th>13</th>\n",
       "      <td>FEVER</td>\n",
       "      <td>23</td>\n",
       "    </tr>\n",
       "    <tr>\n",
       "      <th>14</th>\n",
       "      <td>HEAD BLEED</td>\n",
       "      <td>18</td>\n",
       "    </tr>\n",
       "    <tr>\n",
       "      <th>15</th>\n",
       "      <td>S/P CARDIAC ARREST</td>\n",
       "      <td>18</td>\n",
       "    </tr>\n",
       "    <tr>\n",
       "      <th>16</th>\n",
       "      <td>PANCREATITIS</td>\n",
       "      <td>16</td>\n",
       "    </tr>\n",
       "    <tr>\n",
       "      <th>17</th>\n",
       "      <td>ACUTE RENAL FAILURE</td>\n",
       "      <td>15</td>\n",
       "    </tr>\n",
       "    <tr>\n",
       "      <th>18</th>\n",
       "      <td>ACUTE SUBDURAL HEMATOMA</td>\n",
       "      <td>15</td>\n",
       "    </tr>\n",
       "    <tr>\n",
       "      <th>19</th>\n",
       "      <td>CHEST PAIN</td>\n",
       "      <td>15</td>\n",
       "    </tr>\n",
       "    <tr>\n",
       "      <th>20</th>\n",
       "      <td>HYPOXIA</td>\n",
       "      <td>15</td>\n",
       "    </tr>\n",
       "    <tr>\n",
       "      <th>21</th>\n",
       "      <td>SEIZURE</td>\n",
       "      <td>15</td>\n",
       "    </tr>\n",
       "    <tr>\n",
       "      <th>22</th>\n",
       "      <td>SHORTNESS OF BREATH</td>\n",
       "      <td>15</td>\n",
       "    </tr>\n",
       "    <tr>\n",
       "      <th>23</th>\n",
       "      <td>LIVER FAILURE</td>\n",
       "      <td>14</td>\n",
       "    </tr>\n",
       "    <tr>\n",
       "      <th>24</th>\n",
       "      <td>RESPIRATORY FAILURE</td>\n",
       "      <td>14</td>\n",
       "    </tr>\n",
       "    <tr>\n",
       "      <th>25</th>\n",
       "      <td>STROKE/TIA</td>\n",
       "      <td>14</td>\n",
       "    </tr>\n",
       "    <tr>\n",
       "      <th>26</th>\n",
       "      <td>GASTROINTESTINAL BLEED</td>\n",
       "      <td>13</td>\n",
       "    </tr>\n",
       "    <tr>\n",
       "      <th>27</th>\n",
       "      <td>INTRAPARENCHYMAL HEMORRHAGE</td>\n",
       "      <td>13</td>\n",
       "    </tr>\n",
       "    <tr>\n",
       "      <th>28</th>\n",
       "      <td>ACUTE CORONARY SYNDROME</td>\n",
       "      <td>12</td>\n",
       "    </tr>\n",
       "    <tr>\n",
       "      <th>29</th>\n",
       "      <td>DEHYDRATION</td>\n",
       "      <td>11</td>\n",
       "    </tr>\n",
       "    <tr>\n",
       "      <th>...</th>\n",
       "      <td>...</td>\n",
       "      <td>...</td>\n",
       "    </tr>\n",
       "    <tr>\n",
       "      <th>899</th>\n",
       "      <td>UPPER GI BLEED;DEHYDRATION;METASTATIC MELANOMA</td>\n",
       "      <td>1</td>\n",
       "    </tr>\n",
       "    <tr>\n",
       "      <th>900</th>\n",
       "      <td>URETERAL STONES LEFT</td>\n",
       "      <td>1</td>\n",
       "    </tr>\n",
       "    <tr>\n",
       "      <th>901</th>\n",
       "      <td>URINARY TRACT INFECTION;ACUTE RENAL FAILURE</td>\n",
       "      <td>1</td>\n",
       "    </tr>\n",
       "    <tr>\n",
       "      <th>902</th>\n",
       "      <td>URINARY TRACT INFECTION;ALTERED MENTAL STATUS</td>\n",
       "      <td>1</td>\n",
       "    </tr>\n",
       "    <tr>\n",
       "      <th>903</th>\n",
       "      <td>URINARY TRACT INFECTION;ATRIAL FIBRILLATION</td>\n",
       "      <td>1</td>\n",
       "    </tr>\n",
       "    <tr>\n",
       "      <th>904</th>\n",
       "      <td>URINARY TRACT INFECTION;GASTROINTESTINAL BLEED</td>\n",
       "      <td>1</td>\n",
       "    </tr>\n",
       "    <tr>\n",
       "      <th>905</th>\n",
       "      <td>URINARY TRACT INFECTION;PNEUMONIA</td>\n",
       "      <td>1</td>\n",
       "    </tr>\n",
       "    <tr>\n",
       "      <th>906</th>\n",
       "      <td>URINARY TRACT INFECTION;PYELONEP</td>\n",
       "      <td>1</td>\n",
       "    </tr>\n",
       "    <tr>\n",
       "      <th>907</th>\n",
       "      <td>URINARY TRACT INFECTION;PYLONEPHRITIS</td>\n",
       "      <td>1</td>\n",
       "    </tr>\n",
       "    <tr>\n",
       "      <th>908</th>\n",
       "      <td>URINARY TRACT INFECTION;SEPSIS</td>\n",
       "      <td>1</td>\n",
       "    </tr>\n",
       "    <tr>\n",
       "      <th>909</th>\n",
       "      <td>UTI/ PYELONEPHRITIS</td>\n",
       "      <td>1</td>\n",
       "    </tr>\n",
       "    <tr>\n",
       "      <th>910</th>\n",
       "      <td>UTI/PYELONEPHRITIS</td>\n",
       "      <td>1</td>\n",
       "    </tr>\n",
       "    <tr>\n",
       "      <th>911</th>\n",
       "      <td>UTI;PYELONEPHRITIS</td>\n",
       "      <td>1</td>\n",
       "    </tr>\n",
       "    <tr>\n",
       "      <th>912</th>\n",
       "      <td>UTI;PYLONEPHRITIS</td>\n",
       "      <td>1</td>\n",
       "    </tr>\n",
       "    <tr>\n",
       "      <th>913</th>\n",
       "      <td>UTL/PYLELONEPHRITIS</td>\n",
       "      <td>1</td>\n",
       "    </tr>\n",
       "    <tr>\n",
       "      <th>914</th>\n",
       "      <td>VASCULITIS</td>\n",
       "      <td>1</td>\n",
       "    </tr>\n",
       "    <tr>\n",
       "      <th>915</th>\n",
       "      <td>VENOUS THROMBOSIS</td>\n",
       "      <td>1</td>\n",
       "    </tr>\n",
       "    <tr>\n",
       "      <th>916</th>\n",
       "      <td>VENTRICULAR BLEED</td>\n",
       "      <td>1</td>\n",
       "    </tr>\n",
       "    <tr>\n",
       "      <th>917</th>\n",
       "      <td>VENTRICULAR FIBRILLATION\\ICD</td>\n",
       "      <td>1</td>\n",
       "    </tr>\n",
       "    <tr>\n",
       "      <th>918</th>\n",
       "      <td>VENTRICULAR TACHYARRHYTHMIA STORM</td>\n",
       "      <td>1</td>\n",
       "    </tr>\n",
       "    <tr>\n",
       "      <th>919</th>\n",
       "      <td>VENTRICULAR TACHYCARDIA\\VENTRICULAR TACHYCARDI...</td>\n",
       "      <td>1</td>\n",
       "    </tr>\n",
       "    <tr>\n",
       "      <th>920</th>\n",
       "      <td>VERAPAMIL OVERDOSE</td>\n",
       "      <td>1</td>\n",
       "    </tr>\n",
       "    <tr>\n",
       "      <th>921</th>\n",
       "      <td>VOCAL FOLD PARALYSIS</td>\n",
       "      <td>1</td>\n",
       "    </tr>\n",
       "    <tr>\n",
       "      <th>922</th>\n",
       "      <td>VOLVULUS</td>\n",
       "      <td>1</td>\n",
       "    </tr>\n",
       "    <tr>\n",
       "      <th>923</th>\n",
       "      <td>VOMITING</td>\n",
       "      <td>1</td>\n",
       "    </tr>\n",
       "    <tr>\n",
       "      <th>924</th>\n",
       "      <td>VOMITING;DEHYDRATION</td>\n",
       "      <td>1</td>\n",
       "    </tr>\n",
       "    <tr>\n",
       "      <th>925</th>\n",
       "      <td>VT</td>\n",
       "      <td>1</td>\n",
       "    </tr>\n",
       "    <tr>\n",
       "      <th>926</th>\n",
       "      <td>VT WITH AICD FITTING</td>\n",
       "      <td>1</td>\n",
       "    </tr>\n",
       "    <tr>\n",
       "      <th>927</th>\n",
       "      <td>VTACH;CONGESTIVE HEART FAILURE;ACUTE RENAL FAI...</td>\n",
       "      <td>1</td>\n",
       "    </tr>\n",
       "    <tr>\n",
       "      <th>928</th>\n",
       "      <td>WIDE COMPLEX TACHYCARDIA</td>\n",
       "      <td>1</td>\n",
       "    </tr>\n",
       "  </tbody>\n",
       "</table>\n",
       "<p>929 rows × 2 columns</p>\n",
       "</div>"
      ],
      "text/plain": [
       "                                             DIAGNOSIS  number_of_diagnosis\n",
       "0                                            PNEUMONIA                  149\n",
       "1                              INTRACRANIAL HEMORRHAGE                  137\n",
       "2                                               SEPSIS                  100\n",
       "3                                ALTERED MENTAL STATUS                   54\n",
       "4                             CONGESTIVE HEART FAILURE                   49\n",
       "5           STROKE;TELEMETRY;TRANSIENT ISCHEMIC ATTACK                   44\n",
       "6                                       CARDIAC ARREST                   39\n",
       "7                                       ABDOMINAL PAIN                   37\n",
       "8                                          HYPOTENSION                   32\n",
       "9                                             S/P FALL                   32\n",
       "10                                      UPPER GI BLEED                   31\n",
       "11                                             DYSPNEA                   29\n",
       "12                             SUBARACHNOID HEMORRHAGE                   28\n",
       "13                                               FEVER                   23\n",
       "14                                          HEAD BLEED                   18\n",
       "15                                  S/P CARDIAC ARREST                   18\n",
       "16                                        PANCREATITIS                   16\n",
       "17                                 ACUTE RENAL FAILURE                   15\n",
       "18                             ACUTE SUBDURAL HEMATOMA                   15\n",
       "19                                          CHEST PAIN                   15\n",
       "20                                             HYPOXIA                   15\n",
       "21                                             SEIZURE                   15\n",
       "22                                 SHORTNESS OF BREATH                   15\n",
       "23                                       LIVER FAILURE                   14\n",
       "24                                 RESPIRATORY FAILURE                   14\n",
       "25                                          STROKE/TIA                   14\n",
       "26                              GASTROINTESTINAL BLEED                   13\n",
       "27                         INTRAPARENCHYMAL HEMORRHAGE                   13\n",
       "28                             ACUTE CORONARY SYNDROME                   12\n",
       "29                                         DEHYDRATION                   11\n",
       "..                                                 ...                  ...\n",
       "899     UPPER GI BLEED;DEHYDRATION;METASTATIC MELANOMA                    1\n",
       "900                               URETERAL STONES LEFT                    1\n",
       "901        URINARY TRACT INFECTION;ACUTE RENAL FAILURE                    1\n",
       "902      URINARY TRACT INFECTION;ALTERED MENTAL STATUS                    1\n",
       "903        URINARY TRACT INFECTION;ATRIAL FIBRILLATION                    1\n",
       "904     URINARY TRACT INFECTION;GASTROINTESTINAL BLEED                    1\n",
       "905                  URINARY TRACT INFECTION;PNEUMONIA                    1\n",
       "906                   URINARY TRACT INFECTION;PYELONEP                    1\n",
       "907              URINARY TRACT INFECTION;PYLONEPHRITIS                    1\n",
       "908                     URINARY TRACT INFECTION;SEPSIS                    1\n",
       "909                                UTI/ PYELONEPHRITIS                    1\n",
       "910                                 UTI/PYELONEPHRITIS                    1\n",
       "911                                 UTI;PYELONEPHRITIS                    1\n",
       "912                                  UTI;PYLONEPHRITIS                    1\n",
       "913                                UTL/PYLELONEPHRITIS                    1\n",
       "914                                         VASCULITIS                    1\n",
       "915                                  VENOUS THROMBOSIS                    1\n",
       "916                                  VENTRICULAR BLEED                    1\n",
       "917                       VENTRICULAR FIBRILLATION\\ICD                    1\n",
       "918                  VENTRICULAR TACHYARRHYTHMIA STORM                    1\n",
       "919  VENTRICULAR TACHYCARDIA\\VENTRICULAR TACHYCARDI...                    1\n",
       "920                                 VERAPAMIL OVERDOSE                    1\n",
       "921                               VOCAL FOLD PARALYSIS                    1\n",
       "922                                           VOLVULUS                    1\n",
       "923                                           VOMITING                    1\n",
       "924                               VOMITING;DEHYDRATION                    1\n",
       "925                                                 VT                    1\n",
       "926                               VT WITH AICD FITTING                    1\n",
       "927  VTACH;CONGESTIVE HEART FAILURE;ACUTE RENAL FAI...                    1\n",
       "928                           WIDE COMPLEX TACHYCARDIA                    1\n",
       "\n",
       "[929 rows x 2 columns]"
      ]
     },
     "execution_count": 13,
     "metadata": {},
     "output_type": "execute_result"
    }
   ],
   "source": [
    "pd.read_sql(\"\"\"select DIAGNOSIS, count(DIAGNOSIS) number_of_diagnosis\n",
    "               from admission\n",
    "               where DEATHTIME<=dischtime\n",
    "               group by DIAGNOSIS\n",
    "               order by number_of_diagnosis desc\n",
    "\"\"\",conn)"
   ]
  },
  {
   "cell_type": "markdown",
   "metadata": {},
   "source": [
    "### Charlson Codes:"
   ]
  },
  {
   "cell_type": "markdown",
   "metadata": {},
   "source": [
    "#### How many categories are there? "
   ]
  },
  {
   "cell_type": "code",
   "execution_count": 14,
   "metadata": {
    "scrolled": true
   },
   "outputs": [
    {
     "data": {
      "text/plain": [
       "category    17\n",
       "dtype: int64"
      ]
     },
     "execution_count": 14,
     "metadata": {},
     "output_type": "execute_result"
    }
   ],
   "source": [
    "pd.read_sql(\"\"\"select distinct category \n",
    "            from charlson_codes\n",
    "\"\"\", conn).count()"
   ]
  },
  {
   "cell_type": "markdown",
   "metadata": {},
   "source": [
    "### Diagnoses"
   ]
  },
  {
   "cell_type": "markdown",
   "metadata": {},
   "source": [
    "#### What is the minimum, average, and maximum count of codes that is given to a patient at a particular encounter?"
   ]
  },
  {
   "cell_type": "code",
   "execution_count": 15,
   "metadata": {
    "scrolled": true
   },
   "outputs": [],
   "source": [
    "# pd.read_sql(\"\"\"SELECT SUBJECT_ID, HADM_ID, count(ICD9_CODE) as number_of_codes\n",
    "#                FROM diagnosis\n",
    "#                group by HADM_ID\n",
    "#                order by number_of_codes\n",
    "# \"\"\", conn)"
   ]
  },
  {
   "cell_type": "code",
   "execution_count": 16,
   "metadata": {},
   "outputs": [
    {
     "data": {
      "text/html": [
       "<div>\n",
       "<style scoped>\n",
       "    .dataframe tbody tr th:only-of-type {\n",
       "        vertical-align: middle;\n",
       "    }\n",
       "\n",
       "    .dataframe tbody tr th {\n",
       "        vertical-align: top;\n",
       "    }\n",
       "\n",
       "    .dataframe thead th {\n",
       "        text-align: right;\n",
       "    }\n",
       "</style>\n",
       "<table border=\"1\" class=\"dataframe\">\n",
       "  <thead>\n",
       "    <tr style=\"text-align: right;\">\n",
       "      <th></th>\n",
       "      <th>min(count_of_codes)</th>\n",
       "      <th>avg(count_of_codes)</th>\n",
       "      <th>max(count_of_codes)</th>\n",
       "    </tr>\n",
       "  </thead>\n",
       "  <tbody>\n",
       "    <tr>\n",
       "      <th>0</th>\n",
       "      <td>1</td>\n",
       "      <td>14.632936</td>\n",
       "      <td>39</td>\n",
       "    </tr>\n",
       "  </tbody>\n",
       "</table>\n",
       "</div>"
      ],
      "text/plain": [
       "   min(count_of_codes)  avg(count_of_codes)  max(count_of_codes)\n",
       "0                    1            14.632936                   39"
      ]
     },
     "execution_count": 16,
     "metadata": {},
     "output_type": "execute_result"
    }
   ],
   "source": [
    "pd.read_sql(\"\"\"select min(count_of_codes),avg(count_of_codes),max(count_of_codes) from\n",
    "             (\n",
    "               SELECT SUBJECT_ID, HADM_ID, count(ICD9_CODE) as count_of_codes\n",
    "               FROM diagnosis\n",
    "               group by HADM_ID\n",
    "              )\n",
    "\"\"\", conn)"
   ]
  },
  {
   "cell_type": "markdown",
   "metadata": {},
   "source": [
    "### Combined information"
   ]
  },
  {
   "cell_type": "markdown",
   "metadata": {},
   "source": [
    "#### There is a `DEATHTIME` column in the admission table. In addition, there is death information present in the patient table. Is the information in the admission table complete? (Are there patients who have death information in the patient table who do not have the same information in the admissions table?)"
   ]
  },
  {
   "cell_type": "code",
   "execution_count": 17,
   "metadata": {
    "scrolled": true
   },
   "outputs": [
    {
     "data": {
      "text/html": [
       "<div>\n",
       "<style scoped>\n",
       "    .dataframe tbody tr th:only-of-type {\n",
       "        vertical-align: middle;\n",
       "    }\n",
       "\n",
       "    .dataframe tbody tr th {\n",
       "        vertical-align: top;\n",
       "    }\n",
       "\n",
       "    .dataframe thead th {\n",
       "        text-align: right;\n",
       "    }\n",
       "</style>\n",
       "<table border=\"1\" class=\"dataframe\">\n",
       "  <thead>\n",
       "    <tr style=\"text-align: right;\">\n",
       "      <th></th>\n",
       "      <th>SUBJECT_ID</th>\n",
       "      <th>DEATHTIME</th>\n",
       "      <th>DOD</th>\n",
       "    </tr>\n",
       "  </thead>\n",
       "  <tbody>\n",
       "    <tr>\n",
       "      <th>0</th>\n",
       "      <td>250</td>\n",
       "      <td>None</td>\n",
       "      <td>2188-11-22 00:00:00</td>\n",
       "    </tr>\n",
       "    <tr>\n",
       "      <th>1</th>\n",
       "      <td>257</td>\n",
       "      <td>None</td>\n",
       "      <td>2121-07-08 00:00:00</td>\n",
       "    </tr>\n",
       "    <tr>\n",
       "      <th>2</th>\n",
       "      <td>261</td>\n",
       "      <td>None</td>\n",
       "      <td>2102-06-29 00:00:00</td>\n",
       "    </tr>\n",
       "    <tr>\n",
       "      <th>3</th>\n",
       "      <td>263</td>\n",
       "      <td>None</td>\n",
       "      <td>2168-06-13 00:00:00</td>\n",
       "    </tr>\n",
       "    <tr>\n",
       "      <th>4</th>\n",
       "      <td>268</td>\n",
       "      <td>None</td>\n",
       "      <td>2198-02-18 00:00:00</td>\n",
       "    </tr>\n",
       "  </tbody>\n",
       "</table>\n",
       "</div>"
      ],
      "text/plain": [
       "   SUBJECT_ID DEATHTIME                  DOD\n",
       "0         250      None  2188-11-22 00:00:00\n",
       "1         257      None  2121-07-08 00:00:00\n",
       "2         261      None  2102-06-29 00:00:00\n",
       "3         263      None  2168-06-13 00:00:00\n",
       "4         268      None  2198-02-18 00:00:00"
      ]
     },
     "execution_count": 17,
     "metadata": {},
     "output_type": "execute_result"
    }
   ],
   "source": [
    "pd.read_sql(\"\"\"select SUBJECT_ID, DEATHTIME, DOD from\n",
    "              (\n",
    "               select * \n",
    "               from patient\n",
    "               LEFT JOIN  admission ON admission.SUBJECT_ID = patient.SUBJECT_ID\n",
    "               )\n",
    "               where DOD is not null and DEATHTIME is null\n",
    "\"\"\", conn).head()"
   ]
  },
  {
   "cell_type": "markdown",
   "metadata": {},
   "source": [
    "### Answer: the information in the admission table is not complete "
   ]
  },
  {
   "cell_type": "markdown",
   "metadata": {},
   "source": [
    "#### Join the diagnosis and the Charlson tables together by code and list the Charlson Categories and their counts in descending order"
   ]
  },
  {
   "cell_type": "code",
   "execution_count": 18,
   "metadata": {},
   "outputs": [
    {
     "data": {
      "text/html": [
       "<div>\n",
       "<style scoped>\n",
       "    .dataframe tbody tr th:only-of-type {\n",
       "        vertical-align: middle;\n",
       "    }\n",
       "\n",
       "    .dataframe tbody tr th {\n",
       "        vertical-align: top;\n",
       "    }\n",
       "\n",
       "    .dataframe thead th {\n",
       "        text-align: right;\n",
       "    }\n",
       "</style>\n",
       "<table border=\"1\" class=\"dataframe\">\n",
       "  <thead>\n",
       "    <tr style=\"text-align: right;\">\n",
       "      <th></th>\n",
       "      <th>category</th>\n",
       "      <th>count(category)</th>\n",
       "    </tr>\n",
       "  </thead>\n",
       "  <tbody>\n",
       "    <tr>\n",
       "      <th>0</th>\n",
       "      <td>CHF</td>\n",
       "      <td>11347</td>\n",
       "    </tr>\n",
       "    <tr>\n",
       "      <th>1</th>\n",
       "      <td>Pulmonary</td>\n",
       "      <td>6402</td>\n",
       "    </tr>\n",
       "    <tr>\n",
       "      <th>2</th>\n",
       "      <td>Renal</td>\n",
       "      <td>6209</td>\n",
       "    </tr>\n",
       "    <tr>\n",
       "      <th>3</th>\n",
       "      <td>DM</td>\n",
       "      <td>5295</td>\n",
       "    </tr>\n",
       "    <tr>\n",
       "      <th>4</th>\n",
       "      <td>Stroke</td>\n",
       "      <td>4041</td>\n",
       "    </tr>\n",
       "    <tr>\n",
       "      <th>5</th>\n",
       "      <td>MI</td>\n",
       "      <td>3457</td>\n",
       "    </tr>\n",
       "    <tr>\n",
       "      <th>6</th>\n",
       "      <td>LiverMild</td>\n",
       "      <td>3407</td>\n",
       "    </tr>\n",
       "    <tr>\n",
       "      <th>7</th>\n",
       "      <td>PVD</td>\n",
       "      <td>2918</td>\n",
       "    </tr>\n",
       "    <tr>\n",
       "      <th>8</th>\n",
       "      <td>Mets</td>\n",
       "      <td>2902</td>\n",
       "    </tr>\n",
       "    <tr>\n",
       "      <th>9</th>\n",
       "      <td>Cancer</td>\n",
       "      <td>2901</td>\n",
       "    </tr>\n",
       "    <tr>\n",
       "      <th>10</th>\n",
       "      <td>DMcx</td>\n",
       "      <td>2165</td>\n",
       "    </tr>\n",
       "    <tr>\n",
       "      <th>11</th>\n",
       "      <td>LiverSevere</td>\n",
       "      <td>1745</td>\n",
       "    </tr>\n",
       "    <tr>\n",
       "      <th>12</th>\n",
       "      <td>Paralysis</td>\n",
       "      <td>873</td>\n",
       "    </tr>\n",
       "    <tr>\n",
       "      <th>13</th>\n",
       "      <td>Rheumatic</td>\n",
       "      <td>822</td>\n",
       "    </tr>\n",
       "    <tr>\n",
       "      <th>14</th>\n",
       "      <td>PUD</td>\n",
       "      <td>695</td>\n",
       "    </tr>\n",
       "    <tr>\n",
       "      <th>15</th>\n",
       "      <td>Dementia</td>\n",
       "      <td>515</td>\n",
       "    </tr>\n",
       "    <tr>\n",
       "      <th>16</th>\n",
       "      <td>HIV</td>\n",
       "      <td>180</td>\n",
       "    </tr>\n",
       "    <tr>\n",
       "      <th>17</th>\n",
       "      <td>None</td>\n",
       "      <td>0</td>\n",
       "    </tr>\n",
       "  </tbody>\n",
       "</table>\n",
       "</div>"
      ],
      "text/plain": [
       "       category  count(category)\n",
       "0           CHF            11347\n",
       "1     Pulmonary             6402\n",
       "2         Renal             6209\n",
       "3            DM             5295\n",
       "4        Stroke             4041\n",
       "5            MI             3457\n",
       "6     LiverMild             3407\n",
       "7           PVD             2918\n",
       "8          Mets             2902\n",
       "9        Cancer             2901\n",
       "10         DMcx             2165\n",
       "11  LiverSevere             1745\n",
       "12    Paralysis              873\n",
       "13    Rheumatic              822\n",
       "14          PUD              695\n",
       "15     Dementia              515\n",
       "16          HIV              180\n",
       "17         None                0"
      ]
     },
     "execution_count": 18,
     "metadata": {},
     "output_type": "execute_result"
    }
   ],
   "source": [
    "pd.read_sql(\"\"\"select category,count(category) from\n",
    "                (\n",
    "               SELECT *\n",
    "               FROM diagnosis\n",
    "               LEFT JOIN charlson_codes ON diagnosis.ICD9_CODE = charlson_codes.code   \n",
    "               )\n",
    "               group by category\n",
    "               order by count(category) desc\n",
    "\"\"\", conn)"
   ]
  },
  {
   "cell_type": "markdown",
   "metadata": {},
   "source": [
    "## Task 3: Visualization"
   ]
  },
  {
   "cell_type": "markdown",
   "metadata": {},
   "source": [
    "For this task, you can use pandas along with any plotting library that we've learned about to create the following visualizations. You may have to create a separate dataframe specifically for each of these plots."
   ]
  },
  {
   "cell_type": "markdown",
   "metadata": {},
   "source": [
    "> One important concept in hospital care is the Length of Stay for a patient. In general, the longer a patient stays, the more severe their case. There are many initiatives to try and reduce the length of stay. "
   ]
  },
  {
   "cell_type": "markdown",
   "metadata": {},
   "source": [
    "#### Create a length of stay (in days) column in the dataframe. The Length of Stay is defined as the discharge time minus the admission time. \n",
    "\n",
    "For this, you will need to use the `.dt.days` accessor as seen [here](https://stackoverflow.com/a/45039811)"
   ]
  },
  {
   "cell_type": "code",
   "execution_count": 19,
   "metadata": {
    "scrolled": true
   },
   "outputs": [],
   "source": [
    "df = pd.read_sql(\"select * from admission\", conn)"
   ]
  },
  {
   "cell_type": "code",
   "execution_count": 20,
   "metadata": {},
   "outputs": [
    {
     "data": {
      "text/html": [
       "<div>\n",
       "<style scoped>\n",
       "    .dataframe tbody tr th:only-of-type {\n",
       "        vertical-align: middle;\n",
       "    }\n",
       "\n",
       "    .dataframe tbody tr th {\n",
       "        vertical-align: top;\n",
       "    }\n",
       "\n",
       "    .dataframe thead th {\n",
       "        text-align: right;\n",
       "    }\n",
       "</style>\n",
       "<table border=\"1\" class=\"dataframe\">\n",
       "  <thead>\n",
       "    <tr style=\"text-align: right;\">\n",
       "      <th></th>\n",
       "      <th>SUBJECT_ID</th>\n",
       "      <th>HADM_ID</th>\n",
       "      <th>ADMITTIME</th>\n",
       "      <th>DISCHTIME</th>\n",
       "      <th>length_of_stay</th>\n",
       "    </tr>\n",
       "  </thead>\n",
       "  <tbody>\n",
       "    <tr>\n",
       "      <th>0</th>\n",
       "      <td>23</td>\n",
       "      <td>124321</td>\n",
       "      <td>2157-10-18 19:34:00</td>\n",
       "      <td>2157-10-25 14:00:00</td>\n",
       "      <td>6</td>\n",
       "    </tr>\n",
       "    <tr>\n",
       "      <th>1</th>\n",
       "      <td>34</td>\n",
       "      <td>144319</td>\n",
       "      <td>2191-02-23 05:23:00</td>\n",
       "      <td>2191-02-25 20:20:00</td>\n",
       "      <td>2</td>\n",
       "    </tr>\n",
       "    <tr>\n",
       "      <th>2</th>\n",
       "      <td>36</td>\n",
       "      <td>165660</td>\n",
       "      <td>2134-05-10 11:30:00</td>\n",
       "      <td>2134-05-20 13:16:00</td>\n",
       "      <td>10</td>\n",
       "    </tr>\n",
       "    <tr>\n",
       "      <th>3</th>\n",
       "      <td>357</td>\n",
       "      <td>101651</td>\n",
       "      <td>2199-10-20 12:05:00</td>\n",
       "      <td>2199-10-23 17:30:00</td>\n",
       "      <td>3</td>\n",
       "    </tr>\n",
       "    <tr>\n",
       "      <th>4</th>\n",
       "      <td>357</td>\n",
       "      <td>117876</td>\n",
       "      <td>2199-12-21 22:37:00</td>\n",
       "      <td>2200-01-18 11:45:00</td>\n",
       "      <td>27</td>\n",
       "    </tr>\n",
       "    <tr>\n",
       "      <th>5</th>\n",
       "      <td>85</td>\n",
       "      <td>112077</td>\n",
       "      <td>2167-07-25 18:49:00</td>\n",
       "      <td>2167-07-30 15:24:00</td>\n",
       "      <td>4</td>\n",
       "    </tr>\n",
       "    <tr>\n",
       "      <th>6</th>\n",
       "      <td>107</td>\n",
       "      <td>182383</td>\n",
       "      <td>2121-11-30 19:24:00</td>\n",
       "      <td>2121-12-05 14:18:00</td>\n",
       "      <td>4</td>\n",
       "    </tr>\n",
       "    <tr>\n",
       "      <th>7</th>\n",
       "      <td>107</td>\n",
       "      <td>174162</td>\n",
       "      <td>2122-05-14 19:37:00</td>\n",
       "      <td>2122-05-18 15:11:00</td>\n",
       "      <td>3</td>\n",
       "    </tr>\n",
       "    <tr>\n",
       "      <th>8</th>\n",
       "      <td>109</td>\n",
       "      <td>147469</td>\n",
       "      <td>2141-06-11 10:17:00</td>\n",
       "      <td>2141-06-17 16:29:00</td>\n",
       "      <td>6</td>\n",
       "    </tr>\n",
       "    <tr>\n",
       "      <th>9</th>\n",
       "      <td>124</td>\n",
       "      <td>138376</td>\n",
       "      <td>2165-12-31 18:55:00</td>\n",
       "      <td>2166-02-01 06:55:00</td>\n",
       "      <td>31</td>\n",
       "    </tr>\n",
       "    <tr>\n",
       "      <th>10</th>\n",
       "      <td>154</td>\n",
       "      <td>102354</td>\n",
       "      <td>2127-12-23 18:46:00</td>\n",
       "      <td>2127-12-26 13:50:00</td>\n",
       "      <td>2</td>\n",
       "    </tr>\n",
       "    <tr>\n",
       "      <th>11</th>\n",
       "      <td>109</td>\n",
       "      <td>131345</td>\n",
       "      <td>2141-09-05 20:04:00</td>\n",
       "      <td>2141-09-08 18:30:00</td>\n",
       "      <td>2</td>\n",
       "    </tr>\n",
       "    <tr>\n",
       "      <th>12</th>\n",
       "      <td>109</td>\n",
       "      <td>139061</td>\n",
       "      <td>2141-09-11 10:12:00</td>\n",
       "      <td>2141-09-14 20:00:00</td>\n",
       "      <td>3</td>\n",
       "    </tr>\n",
       "    <tr>\n",
       "      <th>13</th>\n",
       "      <td>109</td>\n",
       "      <td>172335</td>\n",
       "      <td>2141-09-18 10:32:00</td>\n",
       "      <td>2141-09-24 13:53:00</td>\n",
       "      <td>6</td>\n",
       "    </tr>\n",
       "    <tr>\n",
       "      <th>14</th>\n",
       "      <td>109</td>\n",
       "      <td>126055</td>\n",
       "      <td>2141-10-13 23:10:00</td>\n",
       "      <td>2141-11-03 18:45:00</td>\n",
       "      <td>20</td>\n",
       "    </tr>\n",
       "    <tr>\n",
       "      <th>15</th>\n",
       "      <td>109</td>\n",
       "      <td>125288</td>\n",
       "      <td>2141-11-18 14:00:00</td>\n",
       "      <td>2141-11-23 16:42:00</td>\n",
       "      <td>5</td>\n",
       "    </tr>\n",
       "    <tr>\n",
       "      <th>16</th>\n",
       "      <td>109</td>\n",
       "      <td>161950</td>\n",
       "      <td>2141-11-24 16:11:00</td>\n",
       "      <td>2141-12-01 19:00:00</td>\n",
       "      <td>7</td>\n",
       "    </tr>\n",
       "    <tr>\n",
       "      <th>17</th>\n",
       "      <td>109</td>\n",
       "      <td>173633</td>\n",
       "      <td>2141-12-08 01:40:00</td>\n",
       "      <td>2141-12-14 17:16:00</td>\n",
       "      <td>6</td>\n",
       "    </tr>\n",
       "    <tr>\n",
       "      <th>18</th>\n",
       "      <td>109</td>\n",
       "      <td>140167</td>\n",
       "      <td>2141-12-18 03:50:00</td>\n",
       "      <td>2141-12-23 19:51:00</td>\n",
       "      <td>5</td>\n",
       "    </tr>\n",
       "    <tr>\n",
       "      <th>19</th>\n",
       "      <td>109</td>\n",
       "      <td>135923</td>\n",
       "      <td>2142-01-08 06:36:00</td>\n",
       "      <td>2142-01-13 21:00:00</td>\n",
       "      <td>5</td>\n",
       "    </tr>\n",
       "    <tr>\n",
       "      <th>20</th>\n",
       "      <td>109</td>\n",
       "      <td>124657</td>\n",
       "      <td>2142-01-14 17:34:00</td>\n",
       "      <td>2142-01-20 13:30:00</td>\n",
       "      <td>5</td>\n",
       "    </tr>\n",
       "    <tr>\n",
       "      <th>21</th>\n",
       "      <td>109</td>\n",
       "      <td>176760</td>\n",
       "      <td>2142-01-21 11:23:00</td>\n",
       "      <td>2142-01-23 16:40:00</td>\n",
       "      <td>2</td>\n",
       "    </tr>\n",
       "    <tr>\n",
       "      <th>22</th>\n",
       "      <td>109</td>\n",
       "      <td>113189</td>\n",
       "      <td>2142-02-14 10:42:00</td>\n",
       "      <td>2142-02-17 18:15:00</td>\n",
       "      <td>3</td>\n",
       "    </tr>\n",
       "    <tr>\n",
       "      <th>23</th>\n",
       "      <td>109</td>\n",
       "      <td>158995</td>\n",
       "      <td>2142-02-25 15:49:00</td>\n",
       "      <td>2142-02-26 16:11:00</td>\n",
       "      <td>1</td>\n",
       "    </tr>\n",
       "    <tr>\n",
       "      <th>24</th>\n",
       "      <td>109</td>\n",
       "      <td>158943</td>\n",
       "      <td>2142-03-21 09:25:00</td>\n",
       "      <td>2142-03-23 18:11:00</td>\n",
       "      <td>2</td>\n",
       "    </tr>\n",
       "    <tr>\n",
       "      <th>25</th>\n",
       "      <td>109</td>\n",
       "      <td>124398</td>\n",
       "      <td>2142-03-24 16:34:00</td>\n",
       "      <td>2142-03-31 15:15:00</td>\n",
       "      <td>6</td>\n",
       "    </tr>\n",
       "    <tr>\n",
       "      <th>26</th>\n",
       "      <td>109</td>\n",
       "      <td>137510</td>\n",
       "      <td>2142-04-20 13:39:00</td>\n",
       "      <td>2142-04-22 15:30:00</td>\n",
       "      <td>2</td>\n",
       "    </tr>\n",
       "    <tr>\n",
       "      <th>27</th>\n",
       "      <td>109</td>\n",
       "      <td>151240</td>\n",
       "      <td>2142-05-15 10:45:00</td>\n",
       "      <td>2142-05-18 15:58:00</td>\n",
       "      <td>3</td>\n",
       "    </tr>\n",
       "    <tr>\n",
       "      <th>28</th>\n",
       "      <td>109</td>\n",
       "      <td>102024</td>\n",
       "      <td>2142-05-20 12:59:00</td>\n",
       "      <td>2142-06-05 16:18:00</td>\n",
       "      <td>16</td>\n",
       "    </tr>\n",
       "    <tr>\n",
       "      <th>29</th>\n",
       "      <td>109</td>\n",
       "      <td>136572</td>\n",
       "      <td>2142-06-18 03:11:00</td>\n",
       "      <td>2142-06-20 16:34:00</td>\n",
       "      <td>2</td>\n",
       "    </tr>\n",
       "    <tr>\n",
       "      <th>...</th>\n",
       "      <td>...</td>\n",
       "      <td>...</td>\n",
       "      <td>...</td>\n",
       "      <td>...</td>\n",
       "      <td>...</td>\n",
       "    </tr>\n",
       "    <tr>\n",
       "      <th>21849</th>\n",
       "      <td>98720</td>\n",
       "      <td>131917</td>\n",
       "      <td>2178-09-17 18:31:00</td>\n",
       "      <td>2178-09-23 17:30:00</td>\n",
       "      <td>5</td>\n",
       "    </tr>\n",
       "    <tr>\n",
       "      <th>21850</th>\n",
       "      <td>98724</td>\n",
       "      <td>186754</td>\n",
       "      <td>2143-08-22 16:01:00</td>\n",
       "      <td>2143-09-02 17:15:00</td>\n",
       "      <td>11</td>\n",
       "    </tr>\n",
       "    <tr>\n",
       "      <th>21851</th>\n",
       "      <td>98733</td>\n",
       "      <td>152232</td>\n",
       "      <td>2102-10-08 12:32:00</td>\n",
       "      <td>2102-10-16 15:30:00</td>\n",
       "      <td>8</td>\n",
       "    </tr>\n",
       "    <tr>\n",
       "      <th>21852</th>\n",
       "      <td>98734</td>\n",
       "      <td>123336</td>\n",
       "      <td>2146-10-02 21:31:00</td>\n",
       "      <td>2146-10-06 16:00:00</td>\n",
       "      <td>3</td>\n",
       "    </tr>\n",
       "    <tr>\n",
       "      <th>21853</th>\n",
       "      <td>98744</td>\n",
       "      <td>186076</td>\n",
       "      <td>2127-02-24 07:15:00</td>\n",
       "      <td>2127-03-11 17:35:00</td>\n",
       "      <td>15</td>\n",
       "    </tr>\n",
       "    <tr>\n",
       "      <th>21854</th>\n",
       "      <td>98744</td>\n",
       "      <td>156671</td>\n",
       "      <td>2127-03-25 16:52:00</td>\n",
       "      <td>2127-04-02 13:25:00</td>\n",
       "      <td>7</td>\n",
       "    </tr>\n",
       "    <tr>\n",
       "      <th>21855</th>\n",
       "      <td>98744</td>\n",
       "      <td>168288</td>\n",
       "      <td>2127-06-10 19:22:00</td>\n",
       "      <td>2127-06-18 11:51:00</td>\n",
       "      <td>7</td>\n",
       "    </tr>\n",
       "    <tr>\n",
       "      <th>21856</th>\n",
       "      <td>98744</td>\n",
       "      <td>184410</td>\n",
       "      <td>2127-06-30 20:19:00</td>\n",
       "      <td>2127-07-04 14:35:00</td>\n",
       "      <td>3</td>\n",
       "    </tr>\n",
       "    <tr>\n",
       "      <th>21857</th>\n",
       "      <td>98744</td>\n",
       "      <td>153703</td>\n",
       "      <td>2127-10-21 12:43:00</td>\n",
       "      <td>2127-10-31 12:35:00</td>\n",
       "      <td>9</td>\n",
       "    </tr>\n",
       "    <tr>\n",
       "      <th>21858</th>\n",
       "      <td>98744</td>\n",
       "      <td>104396</td>\n",
       "      <td>2128-01-23 07:45:00</td>\n",
       "      <td>2128-02-04 12:07:00</td>\n",
       "      <td>12</td>\n",
       "    </tr>\n",
       "    <tr>\n",
       "      <th>21859</th>\n",
       "      <td>98746</td>\n",
       "      <td>150868</td>\n",
       "      <td>2121-06-13 11:04:00</td>\n",
       "      <td>2121-06-16 12:57:00</td>\n",
       "      <td>3</td>\n",
       "    </tr>\n",
       "    <tr>\n",
       "      <th>21860</th>\n",
       "      <td>98748</td>\n",
       "      <td>122488</td>\n",
       "      <td>2166-12-31 08:00:00</td>\n",
       "      <td>2167-01-05 12:40:00</td>\n",
       "      <td>5</td>\n",
       "    </tr>\n",
       "    <tr>\n",
       "      <th>21861</th>\n",
       "      <td>98749</td>\n",
       "      <td>158912</td>\n",
       "      <td>2196-05-03 22:54:00</td>\n",
       "      <td>2196-05-06 15:14:00</td>\n",
       "      <td>2</td>\n",
       "    </tr>\n",
       "    <tr>\n",
       "      <th>21862</th>\n",
       "      <td>98751</td>\n",
       "      <td>156499</td>\n",
       "      <td>2201-06-04 17:17:00</td>\n",
       "      <td>2201-06-08 14:28:00</td>\n",
       "      <td>3</td>\n",
       "    </tr>\n",
       "    <tr>\n",
       "      <th>21863</th>\n",
       "      <td>98753</td>\n",
       "      <td>185764</td>\n",
       "      <td>2172-02-11 21:26:00</td>\n",
       "      <td>2172-03-02 08:00:00</td>\n",
       "      <td>19</td>\n",
       "    </tr>\n",
       "    <tr>\n",
       "      <th>21864</th>\n",
       "      <td>98755</td>\n",
       "      <td>184156</td>\n",
       "      <td>2167-05-17 12:36:00</td>\n",
       "      <td>2167-05-18 17:03:00</td>\n",
       "      <td>1</td>\n",
       "    </tr>\n",
       "    <tr>\n",
       "      <th>21865</th>\n",
       "      <td>98758</td>\n",
       "      <td>182231</td>\n",
       "      <td>2119-02-22 08:00:00</td>\n",
       "      <td>2119-02-25 12:45:00</td>\n",
       "      <td>3</td>\n",
       "    </tr>\n",
       "    <tr>\n",
       "      <th>21866</th>\n",
       "      <td>98759</td>\n",
       "      <td>109836</td>\n",
       "      <td>2165-05-05 20:56:00</td>\n",
       "      <td>2165-05-08 18:25:00</td>\n",
       "      <td>2</td>\n",
       "    </tr>\n",
       "    <tr>\n",
       "      <th>21867</th>\n",
       "      <td>98759</td>\n",
       "      <td>175386</td>\n",
       "      <td>2165-06-05 11:30:00</td>\n",
       "      <td>2165-06-07 12:00:00</td>\n",
       "      <td>2</td>\n",
       "    </tr>\n",
       "    <tr>\n",
       "      <th>21868</th>\n",
       "      <td>98761</td>\n",
       "      <td>175884</td>\n",
       "      <td>2189-07-10 18:08:00</td>\n",
       "      <td>2189-07-17 14:57:00</td>\n",
       "      <td>6</td>\n",
       "    </tr>\n",
       "    <tr>\n",
       "      <th>21869</th>\n",
       "      <td>98762</td>\n",
       "      <td>192767</td>\n",
       "      <td>2150-06-23 23:16:00</td>\n",
       "      <td>2150-06-30 15:30:00</td>\n",
       "      <td>6</td>\n",
       "    </tr>\n",
       "    <tr>\n",
       "      <th>21870</th>\n",
       "      <td>98768</td>\n",
       "      <td>127022</td>\n",
       "      <td>2112-09-15 09:45:00</td>\n",
       "      <td>2112-09-17 08:20:00</td>\n",
       "      <td>1</td>\n",
       "    </tr>\n",
       "    <tr>\n",
       "      <th>21871</th>\n",
       "      <td>98769</td>\n",
       "      <td>141860</td>\n",
       "      <td>2125-02-22 22:18:00</td>\n",
       "      <td>2125-03-05 17:22:00</td>\n",
       "      <td>10</td>\n",
       "    </tr>\n",
       "    <tr>\n",
       "      <th>21872</th>\n",
       "      <td>98790</td>\n",
       "      <td>187987</td>\n",
       "      <td>2200-10-15 01:58:00</td>\n",
       "      <td>2200-10-25 15:43:00</td>\n",
       "      <td>10</td>\n",
       "    </tr>\n",
       "    <tr>\n",
       "      <th>21873</th>\n",
       "      <td>98794</td>\n",
       "      <td>190603</td>\n",
       "      <td>2127-11-07 11:00:00</td>\n",
       "      <td>2127-11-11 14:30:00</td>\n",
       "      <td>4</td>\n",
       "    </tr>\n",
       "    <tr>\n",
       "      <th>21874</th>\n",
       "      <td>98797</td>\n",
       "      <td>105447</td>\n",
       "      <td>2132-12-24 20:06:00</td>\n",
       "      <td>2132-12-25 12:00:00</td>\n",
       "      <td>0</td>\n",
       "    </tr>\n",
       "    <tr>\n",
       "      <th>21875</th>\n",
       "      <td>98800</td>\n",
       "      <td>191113</td>\n",
       "      <td>2131-03-30 21:13:00</td>\n",
       "      <td>2131-04-02 15:02:00</td>\n",
       "      <td>2</td>\n",
       "    </tr>\n",
       "    <tr>\n",
       "      <th>21876</th>\n",
       "      <td>98802</td>\n",
       "      <td>101071</td>\n",
       "      <td>2151-03-05 20:00:00</td>\n",
       "      <td>2151-03-06 09:10:00</td>\n",
       "      <td>0</td>\n",
       "    </tr>\n",
       "    <tr>\n",
       "      <th>21877</th>\n",
       "      <td>98805</td>\n",
       "      <td>122631</td>\n",
       "      <td>2200-09-12 07:15:00</td>\n",
       "      <td>2200-09-20 12:08:00</td>\n",
       "      <td>8</td>\n",
       "    </tr>\n",
       "    <tr>\n",
       "      <th>21878</th>\n",
       "      <td>98813</td>\n",
       "      <td>190264</td>\n",
       "      <td>2131-10-25 03:09:00</td>\n",
       "      <td>2131-10-26 17:44:00</td>\n",
       "      <td>1</td>\n",
       "    </tr>\n",
       "  </tbody>\n",
       "</table>\n",
       "<p>21879 rows × 5 columns</p>\n",
       "</div>"
      ],
      "text/plain": [
       "       SUBJECT_ID  HADM_ID            ADMITTIME            DISCHTIME  \\\n",
       "0              23   124321  2157-10-18 19:34:00  2157-10-25 14:00:00   \n",
       "1              34   144319  2191-02-23 05:23:00  2191-02-25 20:20:00   \n",
       "2              36   165660  2134-05-10 11:30:00  2134-05-20 13:16:00   \n",
       "3             357   101651  2199-10-20 12:05:00  2199-10-23 17:30:00   \n",
       "4             357   117876  2199-12-21 22:37:00  2200-01-18 11:45:00   \n",
       "5              85   112077  2167-07-25 18:49:00  2167-07-30 15:24:00   \n",
       "6             107   182383  2121-11-30 19:24:00  2121-12-05 14:18:00   \n",
       "7             107   174162  2122-05-14 19:37:00  2122-05-18 15:11:00   \n",
       "8             109   147469  2141-06-11 10:17:00  2141-06-17 16:29:00   \n",
       "9             124   138376  2165-12-31 18:55:00  2166-02-01 06:55:00   \n",
       "10            154   102354  2127-12-23 18:46:00  2127-12-26 13:50:00   \n",
       "11            109   131345  2141-09-05 20:04:00  2141-09-08 18:30:00   \n",
       "12            109   139061  2141-09-11 10:12:00  2141-09-14 20:00:00   \n",
       "13            109   172335  2141-09-18 10:32:00  2141-09-24 13:53:00   \n",
       "14            109   126055  2141-10-13 23:10:00  2141-11-03 18:45:00   \n",
       "15            109   125288  2141-11-18 14:00:00  2141-11-23 16:42:00   \n",
       "16            109   161950  2141-11-24 16:11:00  2141-12-01 19:00:00   \n",
       "17            109   173633  2141-12-08 01:40:00  2141-12-14 17:16:00   \n",
       "18            109   140167  2141-12-18 03:50:00  2141-12-23 19:51:00   \n",
       "19            109   135923  2142-01-08 06:36:00  2142-01-13 21:00:00   \n",
       "20            109   124657  2142-01-14 17:34:00  2142-01-20 13:30:00   \n",
       "21            109   176760  2142-01-21 11:23:00  2142-01-23 16:40:00   \n",
       "22            109   113189  2142-02-14 10:42:00  2142-02-17 18:15:00   \n",
       "23            109   158995  2142-02-25 15:49:00  2142-02-26 16:11:00   \n",
       "24            109   158943  2142-03-21 09:25:00  2142-03-23 18:11:00   \n",
       "25            109   124398  2142-03-24 16:34:00  2142-03-31 15:15:00   \n",
       "26            109   137510  2142-04-20 13:39:00  2142-04-22 15:30:00   \n",
       "27            109   151240  2142-05-15 10:45:00  2142-05-18 15:58:00   \n",
       "28            109   102024  2142-05-20 12:59:00  2142-06-05 16:18:00   \n",
       "29            109   136572  2142-06-18 03:11:00  2142-06-20 16:34:00   \n",
       "...           ...      ...                  ...                  ...   \n",
       "21849       98720   131917  2178-09-17 18:31:00  2178-09-23 17:30:00   \n",
       "21850       98724   186754  2143-08-22 16:01:00  2143-09-02 17:15:00   \n",
       "21851       98733   152232  2102-10-08 12:32:00  2102-10-16 15:30:00   \n",
       "21852       98734   123336  2146-10-02 21:31:00  2146-10-06 16:00:00   \n",
       "21853       98744   186076  2127-02-24 07:15:00  2127-03-11 17:35:00   \n",
       "21854       98744   156671  2127-03-25 16:52:00  2127-04-02 13:25:00   \n",
       "21855       98744   168288  2127-06-10 19:22:00  2127-06-18 11:51:00   \n",
       "21856       98744   184410  2127-06-30 20:19:00  2127-07-04 14:35:00   \n",
       "21857       98744   153703  2127-10-21 12:43:00  2127-10-31 12:35:00   \n",
       "21858       98744   104396  2128-01-23 07:45:00  2128-02-04 12:07:00   \n",
       "21859       98746   150868  2121-06-13 11:04:00  2121-06-16 12:57:00   \n",
       "21860       98748   122488  2166-12-31 08:00:00  2167-01-05 12:40:00   \n",
       "21861       98749   158912  2196-05-03 22:54:00  2196-05-06 15:14:00   \n",
       "21862       98751   156499  2201-06-04 17:17:00  2201-06-08 14:28:00   \n",
       "21863       98753   185764  2172-02-11 21:26:00  2172-03-02 08:00:00   \n",
       "21864       98755   184156  2167-05-17 12:36:00  2167-05-18 17:03:00   \n",
       "21865       98758   182231  2119-02-22 08:00:00  2119-02-25 12:45:00   \n",
       "21866       98759   109836  2165-05-05 20:56:00  2165-05-08 18:25:00   \n",
       "21867       98759   175386  2165-06-05 11:30:00  2165-06-07 12:00:00   \n",
       "21868       98761   175884  2189-07-10 18:08:00  2189-07-17 14:57:00   \n",
       "21869       98762   192767  2150-06-23 23:16:00  2150-06-30 15:30:00   \n",
       "21870       98768   127022  2112-09-15 09:45:00  2112-09-17 08:20:00   \n",
       "21871       98769   141860  2125-02-22 22:18:00  2125-03-05 17:22:00   \n",
       "21872       98790   187987  2200-10-15 01:58:00  2200-10-25 15:43:00   \n",
       "21873       98794   190603  2127-11-07 11:00:00  2127-11-11 14:30:00   \n",
       "21874       98797   105447  2132-12-24 20:06:00  2132-12-25 12:00:00   \n",
       "21875       98800   191113  2131-03-30 21:13:00  2131-04-02 15:02:00   \n",
       "21876       98802   101071  2151-03-05 20:00:00  2151-03-06 09:10:00   \n",
       "21877       98805   122631  2200-09-12 07:15:00  2200-09-20 12:08:00   \n",
       "21878       98813   190264  2131-10-25 03:09:00  2131-10-26 17:44:00   \n",
       "\n",
       "       length_of_stay  \n",
       "0                   6  \n",
       "1                   2  \n",
       "2                  10  \n",
       "3                   3  \n",
       "4                  27  \n",
       "5                   4  \n",
       "6                   4  \n",
       "7                   3  \n",
       "8                   6  \n",
       "9                  31  \n",
       "10                  2  \n",
       "11                  2  \n",
       "12                  3  \n",
       "13                  6  \n",
       "14                 20  \n",
       "15                  5  \n",
       "16                  7  \n",
       "17                  6  \n",
       "18                  5  \n",
       "19                  5  \n",
       "20                  5  \n",
       "21                  2  \n",
       "22                  3  \n",
       "23                  1  \n",
       "24                  2  \n",
       "25                  6  \n",
       "26                  2  \n",
       "27                  3  \n",
       "28                 16  \n",
       "29                  2  \n",
       "...               ...  \n",
       "21849               5  \n",
       "21850              11  \n",
       "21851               8  \n",
       "21852               3  \n",
       "21853              15  \n",
       "21854               7  \n",
       "21855               7  \n",
       "21856               3  \n",
       "21857               9  \n",
       "21858              12  \n",
       "21859               3  \n",
       "21860               5  \n",
       "21861               2  \n",
       "21862               3  \n",
       "21863              19  \n",
       "21864               1  \n",
       "21865               3  \n",
       "21866               2  \n",
       "21867               2  \n",
       "21868               6  \n",
       "21869               6  \n",
       "21870               1  \n",
       "21871              10  \n",
       "21872              10  \n",
       "21873               4  \n",
       "21874               0  \n",
       "21875               2  \n",
       "21876               0  \n",
       "21877               8  \n",
       "21878               1  \n",
       "\n",
       "[21879 rows x 5 columns]"
      ]
     },
     "execution_count": 20,
     "metadata": {},
     "output_type": "execute_result"
    }
   ],
   "source": [
    "import datetime as dt\n",
    "import numpy as np\n",
    "\n",
    "# df1['length_of_stay'] = np.float64(df1['discharge_time'] - df1['admit_time'])/(3600*24*1000000000)\n",
    "\n",
    "df['length_of_stay'] = ( pd.to_datetime(df['DISCHTIME']) - pd.to_datetime(df['ADMITTIME']) ).dt.days\n",
    "\n",
    "df[['SUBJECT_ID','HADM_ID','ADMITTIME','DISCHTIME','length_of_stay']]"
   ]
  },
  {
   "cell_type": "markdown",
   "metadata": {},
   "source": [
    "#### Create a plot which contains boxplots that contain the length of stay information, broken down by Admission Type"
   ]
  },
  {
   "cell_type": "code",
   "execution_count": 21,
   "metadata": {},
   "outputs": [],
   "source": [
    "import seaborn as sns\n",
    "import matplotlib.pyplot as plt\n",
    "%matplotlib inline"
   ]
  },
  {
   "cell_type": "code",
   "execution_count": 22,
   "metadata": {
    "scrolled": true
   },
   "outputs": [
    {
     "data": {
      "image/png": "[encoded data removed]",
      "text/plain": [
       "<Figure size 360x360 with 1 Axes>"
      ]
     },
     "metadata": {
      "needs_background": "light"
     },
     "output_type": "display_data"
    }
   ],
   "source": [
    "sns.catplot(x=\"ADMISSION_TYPE\", y=\"length_of_stay\", data=df, kind=\"box\");"
   ]
  },
  {
   "cell_type": "markdown",
   "metadata": {},
   "source": [
    "#### Create a scatter plot which has the length of stay in days on one axis \n",
    "#### and the number of diagnosis codes for a particular encounter on the other"
   ]
  },
  {
   "cell_type": "code",
   "execution_count": 23,
   "metadata": {},
   "outputs": [],
   "source": [
    "df_new = pd.read_sql(\"\"\"select SUBJECT_ID, HADM_ID, DISCHTIME, ADMITTIME, count(ICD9_CODE) as nbr_of_diag_code\n",
    "                     from(\n",
    "                     SELECT *\n",
    "                     FROM admission\n",
    "                     LEFT JOIN diagnosis ON diagnosis.HADM_ID = admission.HADM_ID\n",
    "                     )\n",
    "                     group by HADM_ID\n",
    "\"\"\", conn)"
   ]
  },
  {
   "cell_type": "code",
   "execution_count": 24,
   "metadata": {},
   "outputs": [],
   "source": [
    "df_new['length_of_stay'] = ( pd.to_datetime(df_new['DISCHTIME']) - pd.to_datetime(df_new['ADMITTIME']) ).dt.days"
   ]
  },
  {
   "cell_type": "code",
   "execution_count": 25,
   "metadata": {
    "scrolled": true
   },
   "outputs": [],
   "source": [
    "# sns.scatterplot(x=\"length_of_stay\", y=\"nbr_of_diag_code\", data=df1)"
   ]
  },
  {
   "cell_type": "code",
   "execution_count": 26,
   "metadata": {
    "scrolled": true
   },
   "outputs": [
    {
     "data": {
      "text/plain": [
       "<matplotlib.axes._subplots.AxesSubplot at 0x1a203eeba8>"
      ]
     },
     "execution_count": 26,
     "metadata": {},
     "output_type": "execute_result"
    },
    {
     "data": {
      "image/png": "[encoded data removed]",
      "text/plain": [
       "<Figure size 432x288 with 1 Axes>"
      ]
     },
     "metadata": {
      "needs_background": "light"
     },
     "output_type": "display_data"
    }
   ],
   "source": [
    "sns.scatterplot(x=\"nbr_of_diag_code\", y=\"length_of_stay\", data=df_new)"
   ]
  },
  {
   "cell_type": "markdown",
   "metadata": {},
   "source": [
    "#### Ask your own question about the data and answer it with a visualization of your choice\n",
    "###### Create a plot which contains boxplots that contain the length of stay information, broken down by INSURANCE¶"
   ]
  },
  {
   "cell_type": "code",
   "execution_count": 27,
   "metadata": {
    "scrolled": true
   },
   "outputs": [
    {
     "data": {
      "image/png": "[encoded data removed]",
      "text/plain": [
       "<Figure size 360x360 with 1 Axes>"
      ]
     },
     "metadata": {
      "needs_background": "light"
     },
     "output_type": "display_data"
    }
   ],
   "source": [
    "sns.catplot(x=\"INSURANCE\", y=\"length_of_stay\", data=df, kind=\"box\");"
   ]
  },
  {
   "cell_type": "markdown",
   "metadata": {},
   "source": [
    "## Task 4: Create the Design/Model matrix "
   ]
  },
  {
   "cell_type": "markdown",
   "metadata": {},
   "source": [
    "For this task, you will create the Design/Model matrix for your clinical risk score. Each row should pertain to a unique encounter, and the columns should be each of the categories available in the `charlson_codes` table. \n",
    "\n",
    "In particular, you will need to detect the presence of an ICD-code that belongs to a category in the Charlson Comorbidity Index, and make the corresponding entry a 1 if it is present, and a 0 if it is not. \n",
    "\n",
    "In addition, you should create a column that contains the value 1.0 repeated to represent the intercept weight. \n",
    "\n",
    "Finally, you will need 1 column that represents whether a patient's death date is within 1 year of their encounter `ADMITTIME`.\n",
    "\n",
    "Below are a list of steps that can walk you through the process. You do not need to necessarily follow these steps, but at the end you should end up with a matrix that looks something like this (with all of the category columns)\n"
   ]
  },
  {
   "cell_type": "markdown",
   "metadata": {},
   "source": [
    "##### As a DataFrame"
   ]
  },
  {
   "cell_type": "code",
   "execution_count": 28,
   "metadata": {
    "scrolled": true
   },
   "outputs": [
    {
     "data": {
      "text/html": [
       "<div>\n",
       "<style scoped>\n",
       "    .dataframe tbody tr th:only-of-type {\n",
       "        vertical-align: middle;\n",
       "    }\n",
       "\n",
       "    .dataframe tbody tr th {\n",
       "        vertical-align: top;\n",
       "    }\n",
       "\n",
       "    .dataframe thead th {\n",
       "        text-align: right;\n",
       "    }\n",
       "</style>\n",
       "<table border=\"1\" class=\"dataframe\">\n",
       "  <thead>\n",
       "    <tr style=\"text-align: right;\">\n",
       "      <th></th>\n",
       "      <th>Intercept</th>\n",
       "      <th>CHF</th>\n",
       "      <th>MI</th>\n",
       "      <th>Stroke</th>\n",
       "      <th>1_yr_mortality</th>\n",
       "    </tr>\n",
       "  </thead>\n",
       "  <tbody>\n",
       "    <tr>\n",
       "      <th>0</th>\n",
       "      <td>1</td>\n",
       "      <td>1</td>\n",
       "      <td>1</td>\n",
       "      <td>0</td>\n",
       "      <td>1</td>\n",
       "    </tr>\n",
       "    <tr>\n",
       "      <th>1</th>\n",
       "      <td>1</td>\n",
       "      <td>0</td>\n",
       "      <td>1</td>\n",
       "      <td>0</td>\n",
       "      <td>0</td>\n",
       "    </tr>\n",
       "    <tr>\n",
       "      <th>2</th>\n",
       "      <td>1</td>\n",
       "      <td>0</td>\n",
       "      <td>0</td>\n",
       "      <td>0</td>\n",
       "      <td>0</td>\n",
       "    </tr>\n",
       "  </tbody>\n",
       "</table>\n",
       "</div>"
      ],
      "text/plain": [
       "   Intercept  CHF  MI  Stroke  1_yr_mortality\n",
       "0          1    1   1       0               1\n",
       "1          1    0   1       0               0\n",
       "2          1    0   0       0               0"
      ]
     },
     "execution_count": 28,
     "metadata": {},
     "output_type": "execute_result"
    }
   ],
   "source": [
    "example_df = pd.DataFrame({'Intercept': [1,1,1], 'CHF': [1, 0, 0], 'MI': [1, 1, 0], 'Stroke': [0, 0, 0], '1_yr_mortality': [1, 0, 0]})\n",
    "example_df"
   ]
  },
  {
   "cell_type": "markdown",
   "metadata": {},
   "source": [
    "##### As a Numpy array"
   ]
  },
  {
   "cell_type": "code",
   "execution_count": 29,
   "metadata": {},
   "outputs": [
    {
     "data": {
      "text/plain": [
       "array([[1, 1, 1, 0, 1],\n",
       "       [1, 0, 1, 0, 0],\n",
       "       [1, 0, 0, 0, 0]])"
      ]
     },
     "execution_count": 29,
     "metadata": {},
     "output_type": "execute_result"
    }
   ],
   "source": [
    "example_df.values"
   ]
  },
  {
   "cell_type": "markdown",
   "metadata": {},
   "source": [
    "### Recommended Steps for Creating the Design Matrix"
   ]
  },
  {
   "cell_type": "markdown",
   "metadata": {},
   "source": [
    "For this task, you will need to use the `admission`, `diagnosis`, `charlson_codes`, and `patient` tables. "
   ]
  },
  {
   "cell_type": "markdown",
   "metadata": {},
   "source": [
    "To get an accurate death date at the encounter level, join the patient table into the admission table by patient identifier. From there, create a new column that determines whether there has been 1 year or less between the mortality(death) date and the admission time. \n",
    "\n",
    "Remember that when working with datetime columns, you will need to utilize the `pd.to_datetime` function. You can subtract times and use the `.dt.days` method to extract the number of days. [Reference](https://stackoverflow.com/a/45039811)"
   ]
  },
  {
   "cell_type": "code",
   "execution_count": 30,
   "metadata": {
    "scrolled": true
   },
   "outputs": [],
   "source": [
    "df1 = pd.read_sql(\"\"\"select subject_id, hadm_id, admittime, dod\n",
    "                        from(\n",
    "                        select * \n",
    "                        from admission\n",
    "                        left join patient on patient.subject_id=admission.subject_id\n",
    "                        )\n",
    "                        \"\"\",conn)"
   ]
  },
  {
   "cell_type": "code",
   "execution_count": 31,
   "metadata": {
    "scrolled": true
   },
   "outputs": [],
   "source": [
    "df1['b'] = ( pd.to_datetime(df1['DOD']) - pd.to_datetime(df1['ADMITTIME']) ).dt.days\n",
    "\n",
    "# df1['1_yr_mortality'] = [0 if ('b'==np.nan) | (df1['b'] > 365) else 1]\n",
    "\n",
    "df1['1_yr_mortality'] = np.where(df1.b.isnull(), 0, np.where(df1.b >365, 0, 1))    \n",
    "df1 = df1[['SUBJECT_ID','HADM_ID','1_yr_mortality']]   "
   ]
  },
  {
   "cell_type": "markdown",
   "metadata": {},
   "source": [
    "Next, join the `diagnosis` and `charlson_codes` data together. If there is missing information, use the type of join that removes missing information. Not all diagnosis codes map to an existing Charlson category. "
   ]
  },
  {
   "cell_type": "code",
   "execution_count": 32,
   "metadata": {},
   "outputs": [],
   "source": [
    "df2 = pd.read_sql(\"\"\"SELECT *\n",
    "                     FROM diagnosis\n",
    "                     inner JOIN charlson_codes ON diagnosis.ICD9_CODE = charlson_codes.code   \n",
    "\"\"\",conn)"
   ]
  },
  {
   "cell_type": "markdown",
   "metadata": {},
   "source": [
    "Once you have this new DataFrame, you will notice that it is in a long format. You will need to turn it into a wide format so that each category is represented as its own column. You can start with this command to get started:"
   ]
  },
  {
   "cell_type": "markdown",
   "metadata": {},
   "source": [
    "`.groupby(['id', 'category']).size().unstack()`"
   ]
  },
  {
   "cell_type": "code",
   "execution_count": 33,
   "metadata": {
    "scrolled": true
   },
   "outputs": [],
   "source": [
    "df3 = df2.groupby(['HADM_ID', 'category']).size().unstack()"
   ]
  },
  {
   "cell_type": "markdown",
   "metadata": {},
   "source": [
    "You will also need to binarize (turn to 1s and 0s) each of the category columns. "
   ]
  },
  {
   "cell_type": "code",
   "execution_count": 34,
   "metadata": {},
   "outputs": [],
   "source": [
    "df4 = df3\n",
    "df4 = df3.fillna(0)\n",
    "df4[df4 != 0] = 1"
   ]
  },
  {
   "cell_type": "markdown",
   "metadata": {},
   "source": [
    "Merge all of the data together so that it looks like the example above."
   ]
  },
  {
   "cell_type": "code",
   "execution_count": 35,
   "metadata": {},
   "outputs": [],
   "source": [
    "df5 = df4\n",
    "df5['Intercept'] =1"
   ]
  },
  {
   "cell_type": "code",
   "execution_count": 36,
   "metadata": {},
   "outputs": [
    {
     "data": {
      "text/plain": [
       "(18027, 21)"
      ]
     },
     "execution_count": 36,
     "metadata": {},
     "output_type": "execute_result"
    }
   ],
   "source": [
    "df6 = pd.merge(df5,\n",
    "               df1,\n",
    "               on = 'HADM_ID',\n",
    "               how='left')\n",
    "df6.shape"
   ]
  },
  {
   "cell_type": "code",
   "execution_count": 37,
   "metadata": {
    "scrolled": true
   },
   "outputs": [
    {
     "data": {
      "text/html": [
       "<div>\n",
       "<style scoped>\n",
       "    .dataframe tbody tr th:only-of-type {\n",
       "        vertical-align: middle;\n",
       "    }\n",
       "\n",
       "    .dataframe tbody tr th {\n",
       "        vertical-align: top;\n",
       "    }\n",
       "\n",
       "    .dataframe thead th {\n",
       "        text-align: right;\n",
       "    }\n",
       "</style>\n",
       "<table border=\"1\" class=\"dataframe\">\n",
       "  <thead>\n",
       "    <tr style=\"text-align: right;\">\n",
       "      <th></th>\n",
       "      <th>Intercept</th>\n",
       "      <th>MI</th>\n",
       "      <th>CHF</th>\n",
       "      <th>PVD</th>\n",
       "      <th>Stroke</th>\n",
       "      <th>Dementia</th>\n",
       "      <th>Pulmonary</th>\n",
       "      <th>Rheumatic</th>\n",
       "      <th>PUD</th>\n",
       "      <th>LiverMild</th>\n",
       "      <th>DM</th>\n",
       "      <th>DMcx</th>\n",
       "      <th>Paralysis</th>\n",
       "      <th>Renal</th>\n",
       "      <th>Cancer</th>\n",
       "      <th>LiverSevere</th>\n",
       "      <th>Mets</th>\n",
       "      <th>HIV</th>\n",
       "      <th>1_yr_mortality</th>\n",
       "    </tr>\n",
       "  </thead>\n",
       "  <tbody>\n",
       "    <tr>\n",
       "      <th>0</th>\n",
       "      <td>1</td>\n",
       "      <td>0.0</td>\n",
       "      <td>0.0</td>\n",
       "      <td>0.0</td>\n",
       "      <td>0.0</td>\n",
       "      <td>0.0</td>\n",
       "      <td>0.0</td>\n",
       "      <td>0.0</td>\n",
       "      <td>0.0</td>\n",
       "      <td>0.0</td>\n",
       "      <td>1.0</td>\n",
       "      <td>1.0</td>\n",
       "      <td>0.0</td>\n",
       "      <td>1.0</td>\n",
       "      <td>0.0</td>\n",
       "      <td>0.0</td>\n",
       "      <td>0.0</td>\n",
       "      <td>0.0</td>\n",
       "      <td>0</td>\n",
       "    </tr>\n",
       "    <tr>\n",
       "      <th>1</th>\n",
       "      <td>1</td>\n",
       "      <td>0.0</td>\n",
       "      <td>0.0</td>\n",
       "      <td>0.0</td>\n",
       "      <td>0.0</td>\n",
       "      <td>0.0</td>\n",
       "      <td>0.0</td>\n",
       "      <td>0.0</td>\n",
       "      <td>1.0</td>\n",
       "      <td>1.0</td>\n",
       "      <td>0.0</td>\n",
       "      <td>0.0</td>\n",
       "      <td>0.0</td>\n",
       "      <td>0.0</td>\n",
       "      <td>0.0</td>\n",
       "      <td>1.0</td>\n",
       "      <td>0.0</td>\n",
       "      <td>0.0</td>\n",
       "      <td>1</td>\n",
       "    </tr>\n",
       "    <tr>\n",
       "      <th>2</th>\n",
       "      <td>1</td>\n",
       "      <td>0.0</td>\n",
       "      <td>0.0</td>\n",
       "      <td>1.0</td>\n",
       "      <td>0.0</td>\n",
       "      <td>0.0</td>\n",
       "      <td>0.0</td>\n",
       "      <td>0.0</td>\n",
       "      <td>0.0</td>\n",
       "      <td>0.0</td>\n",
       "      <td>1.0</td>\n",
       "      <td>0.0</td>\n",
       "      <td>0.0</td>\n",
       "      <td>0.0</td>\n",
       "      <td>0.0</td>\n",
       "      <td>0.0</td>\n",
       "      <td>0.0</td>\n",
       "      <td>0.0</td>\n",
       "      <td>0</td>\n",
       "    </tr>\n",
       "    <tr>\n",
       "      <th>3</th>\n",
       "      <td>1</td>\n",
       "      <td>0.0</td>\n",
       "      <td>0.0</td>\n",
       "      <td>0.0</td>\n",
       "      <td>0.0</td>\n",
       "      <td>0.0</td>\n",
       "      <td>0.0</td>\n",
       "      <td>0.0</td>\n",
       "      <td>0.0</td>\n",
       "      <td>0.0</td>\n",
       "      <td>0.0</td>\n",
       "      <td>0.0</td>\n",
       "      <td>0.0</td>\n",
       "      <td>0.0</td>\n",
       "      <td>1.0</td>\n",
       "      <td>0.0</td>\n",
       "      <td>1.0</td>\n",
       "      <td>0.0</td>\n",
       "      <td>0</td>\n",
       "    </tr>\n",
       "    <tr>\n",
       "      <th>4</th>\n",
       "      <td>1</td>\n",
       "      <td>1.0</td>\n",
       "      <td>1.0</td>\n",
       "      <td>1.0</td>\n",
       "      <td>1.0</td>\n",
       "      <td>0.0</td>\n",
       "      <td>1.0</td>\n",
       "      <td>0.0</td>\n",
       "      <td>0.0</td>\n",
       "      <td>0.0</td>\n",
       "      <td>0.0</td>\n",
       "      <td>1.0</td>\n",
       "      <td>0.0</td>\n",
       "      <td>1.0</td>\n",
       "      <td>0.0</td>\n",
       "      <td>0.0</td>\n",
       "      <td>0.0</td>\n",
       "      <td>0.0</td>\n",
       "      <td>0</td>\n",
       "    </tr>\n",
       "  </tbody>\n",
       "</table>\n",
       "</div>"
      ],
      "text/plain": [
       "   Intercept   MI  CHF  PVD  Stroke  Dementia  Pulmonary  Rheumatic  PUD  \\\n",
       "0          1  0.0  0.0  0.0     0.0       0.0        0.0        0.0  0.0   \n",
       "1          1  0.0  0.0  0.0     0.0       0.0        0.0        0.0  1.0   \n",
       "2          1  0.0  0.0  1.0     0.0       0.0        0.0        0.0  0.0   \n",
       "3          1  0.0  0.0  0.0     0.0       0.0        0.0        0.0  0.0   \n",
       "4          1  1.0  1.0  1.0     1.0       0.0        1.0        0.0  0.0   \n",
       "\n",
       "   LiverMild   DM  DMcx  Paralysis  Renal  Cancer  LiverSevere  Mets  HIV  \\\n",
       "0        0.0  1.0   1.0        0.0    1.0     0.0          0.0   0.0  0.0   \n",
       "1        1.0  0.0   0.0        0.0    0.0     0.0          1.0   0.0  0.0   \n",
       "2        0.0  1.0   0.0        0.0    0.0     0.0          0.0   0.0  0.0   \n",
       "3        0.0  0.0   0.0        0.0    0.0     1.0          0.0   1.0  0.0   \n",
       "4        0.0  0.0   1.0        0.0    1.0     0.0          0.0   0.0  0.0   \n",
       "\n",
       "   1_yr_mortality  \n",
       "0               0  \n",
       "1               1  \n",
       "2               0  \n",
       "3               0  \n",
       "4               0  "
      ]
     },
     "execution_count": 37,
     "metadata": {},
     "output_type": "execute_result"
    }
   ],
   "source": [
    "df7=df6.loc[:,['Intercept','MI','CHF','PVD','Stroke','Dementia','Pulmonary','Rheumatic','PUD','LiverMild','DM','DMcx','Paralysis','Renal','Cancer','LiverSevere','Mets','HIV','1_yr_mortality']]\n",
    "df7.head()"
   ]
  },
  {
   "cell_type": "markdown",
   "metadata": {},
   "source": [
    "# Task 5: Fit a logistic regression model via gradient descent\n",
    "\n",
    "Implement the gradient ascent algorithm and use it to iteratively update some initialized weights for your logistic regression. For this step, do not use an implementation in another library (sklearn, statsmodels). You must write your own implementation using base python, numpy, and other standard libraries. If you have a question about what is allowed, please ask one of the instructors."
   ]
  },
  {
   "cell_type": "code",
   "execution_count": null,
   "metadata": {},
   "outputs": [],
   "source": []
  },
  {
   "cell_type": "markdown",
   "metadata": {},
   "source": [
    "Recall that the average loss can be expressed as follows (this is usually displayed with a negative sign out front)\n",
    "\n",
    "$$\\frac{1}{m}\\sum_{i=1}^{m}y^{(i)} \\log \\sigma(\\textbf{w}^T\\textbf{x}^{(i)}) + (1-y^{(i)}) \\log (1- \\sigma(\\textbf{w}^T\\textbf{x}^{(i)}) $$"
   ]
  },
  {
   "cell_type": "markdown",
   "metadata": {},
   "source": [
    "The Gradient Ascent update equation is given by: \n",
    "$$ w_j \\leftarrow w_j + \\alpha(y-\\sigma(\\textbf{w}^T\\textbf{x}))x_j $$\n",
    "\n",
    "where $\\alpha$ is a learning rate which affects the speed of convergence. "
   ]
  },
  {
   "cell_type": "markdown",
   "metadata": {},
   "source": [
    "The pseudocode to fit a logistic regression model looks similar to the following:\n",
    "```    \n",
    "Repeat {\n",
    "\n",
    "  1. Calculate average gradient value over the dataset(for all x_j)\n",
    "  2. Multiply by the average gradient by the learning rate\n",
    "  3. Update the weights by adding this value to the original weights\n",
    "\n",
    "}\n",
    "```"
   ]
  },
  {
   "cell_type": "markdown",
   "metadata": {},
   "source": [
    "It is recommended that you have helper functions to perform the logistic function and the calculation of the gradient"
   ]
  },
  {
   "cell_type": "code",
   "execution_count": 39,
   "metadata": {},
   "outputs": [],
   "source": [
    "def predict(x, w):\n",
    "    z = np.dot(x, w)    \n",
    "    return 1/(1+np.exp(-z))"
   ]
  },
  {
   "cell_type": "code",
   "execution_count": 40,
   "metadata": {},
   "outputs": [],
   "source": [
    "def logistic_loss(x, y, w):\n",
    "    \n",
    "    N = len(x)\n",
    "    loss = 0 \n",
    "    \n",
    "    for i in range(N):\n",
    "        predictions = predict(x[i],w)\n",
    "        loss += y[i]*np.log(predictions) + (1-y[i])*np.log(1-predictions)\n",
    "        \n",
    "    loss = loss/N\n",
    "    \n",
    "    return loss"
   ]
  },
  {
   "cell_type": "code",
   "execution_count": 41,
   "metadata": {},
   "outputs": [],
   "source": [
    "def get_gradient(x, y, w):\n",
    "\n",
    "    N = len(x)\n",
    "    predictions = predict(x, w)\n",
    "    gradient = np.dot(  x.T, (predictions - y) ) /N\n",
    "\n",
    "    return gradient"
   ]
  },
  {
   "cell_type": "markdown",
   "metadata": {},
   "source": [
    "In practice, you will want to initialize an array of weights w of the appropriate size with all 0s or some other small random value. Then, you will follow the pseudocode above, and update the weights iteratively. At each step, you will want to compute the value $y - \\sigma(\\textbf{w}^T\\textbf{x})x_j$ over all of the rows of the matrix and find the average value over the entire dataset. Then apply the learning rate and update the weights according to the update equation above."
   ]
  },
  {
   "cell_type": "code",
   "execution_count": 42,
   "metadata": {},
   "outputs": [],
   "source": [
    "features = x[:,0:18]\n",
    "labels = x[:,18]\n",
    "\n",
    "N = len(features)\n",
    "lr = 1"
   ]
  },
  {
   "cell_type": "code",
   "execution_count": 43,
   "metadata": {},
   "outputs": [
    {
     "name": "stdout",
     "output_type": "stream",
     "text": [
      "weights =  [-0.19418095 -0.03758252 -0.0452377  -0.02801354 -0.02762523 -0.00077661\n",
      " -0.06121373 -0.00815444 -0.00793255 -0.02013646 -0.06495812 -0.01841682\n",
      " -0.00718367 -0.02951129  0.00504798 -0.00138681  0.01550452 -0.00227437]\n",
      "loss =  0.6500860082848143\n",
      "  \n",
      "  \n",
      "weights =  [-1.44839954 -0.07133369  0.51140832  0.00188471  0.3142176   0.3744167\n",
      "  0.02019655  0.00587733 -0.08224529  0.27910201 -0.15735518 -0.24638442\n",
      "  0.13934137  0.50233585  0.902912    0.51542595  1.27959613 -0.04395181]\n",
      "loss =  0.5569043649597789\n",
      "  \n",
      "  \n",
      "weights =  [-1.67551136 -0.02078871  0.60201353  0.06401068  0.44535479  0.64397152\n",
      "  0.08976448  0.0653997  -0.07535141  0.36477204 -0.10215399 -0.2850764\n",
      "  0.2447225   0.57245295  0.97309844  0.71910724  1.60507033 -0.05376001]\n",
      "loss =  0.5531476000660571\n",
      "  \n",
      "  \n",
      "weights =  [-1.74658422 -0.0024647   0.62796314  0.08601332  0.47290369  0.80969074\n",
      "  0.11223386  0.10516375 -0.06339762  0.37877927 -0.08551341 -0.28753293\n",
      "  0.29978778  0.58829843  0.98497942  0.80490379  1.71610708 -0.05541055]\n",
      "loss =  0.5525121427835885\n",
      "  \n",
      "  \n",
      "weights =  [-1.77330581  0.00425681  0.63732921  0.09468868  0.47750991  0.90715077\n",
      "  0.12066255  0.12773649 -0.05428797  0.37892384 -0.07953334 -0.28431289\n",
      "  0.32893109  0.59233993  0.98877201  0.84444565  1.75673102 -0.05443612]\n",
      "loss =  0.5523545983488999\n",
      "  \n",
      "  \n",
      "weights =  [-1.78489423  0.0070262   0.64123128  0.09858157  0.47744253  0.96322761\n",
      "  0.12431365  0.13983915 -0.0482749   0.3773853  -0.07701357 -0.28137391\n",
      "  0.34447641  0.59338049  0.99077625  0.86361099  1.77254636 -0.05264853]\n",
      "loss =  0.5523093854486238\n",
      "  \n",
      "  \n",
      "weights =  [-1.79045707  0.00829936  0.64303738  0.10049753  0.47672786  0.99513258\n",
      "  0.12606716  0.14617455 -0.04450637  0.37625884 -0.07582667 -0.2794563\n",
      "  0.3528133   0.59363615  0.99201282  0.87315322  1.77917006 -0.05071231]\n",
      "loss =  0.552295720474294\n",
      "  \n",
      "  \n",
      "weights =  [-1.79330883  0.00893368  0.64393726  0.10149665  0.4761517   1.01317672\n",
      "  0.12696661  0.14945894 -0.04220004  0.37563511 -0.07522524 -0.27832391\n",
      "  0.3573077   0.59368926  0.99277124  0.87797655  1.78216565 -0.04887854]\n",
      "loss =  0.5522914996270692\n",
      "  \n",
      "  \n",
      "weights =  [-1.79483174  0.00926733  0.64440823  0.10203618  0.47578488  1.02334804\n",
      "  0.12744685  0.15115724 -0.04080608  0.37532505 -0.07490558 -0.27767988\n",
      "  0.35974388  0.59369321  0.99322192  0.8804386   1.78361819 -0.04723483]\n",
      "loss =  0.5522901753441323\n",
      "  \n",
      "  \n",
      "weights =  [-1.79566661  0.00944948  0.64466307  0.10233403  0.47557032  1.02907061\n",
      "  0.12770972  0.15203664 -0.03996956  0.37517866 -0.07472984 -0.2773182\n",
      "  0.36107203  0.59368722  0.99348292  0.88170567  1.78436308 -0.04580088]\n",
      "loss =  0.5522897508939248\n",
      "  \n",
      "  \n"
     ]
    }
   ],
   "source": [
    "weights = np.zeros(18) # init weights to some random value.\n",
    "iters = 1000 # set this to the number of iterations\n",
    "    \n",
    "for i in range(iters):\n",
    "    gradient = get_gradient(features, labels, weights)\n",
    "    weights -= lr*gradient\n",
    "    loss = logistic_loss(features, labels, weights)\n",
    "    if(i%100==0):\n",
    "        print('weights = ', weights)  \n",
    "        print('loss = ', -loss)\n",
    "        print('  ')\n",
    "        print('  ')"
   ]
  },
  {
   "cell_type": "markdown",
   "metadata": {},
   "source": [
    "You will want to repeat this procedure until the algorithm converges. You can play around with the learning rate and the number of total iterations for this program to converge either faster or slower. In addition, you can choose to use other versions of gradient descent, such as mini-batch gradient descent and/or stochastic gradient descent to improve the convergence rate. One way to check for convergence is to check to make sure that the weights are not changing by a certain small threshold. Another way is to run for a number of iterations and check against the `statsmodels` implementation:"
   ]
  },
  {
   "cell_type": "markdown",
   "metadata": {},
   "source": [
    "```\n",
    "from statsmodels import api as sm\n",
    "\n",
    "logit = sm.Logit(y, X)\n",
    "logit.fit().params\n",
    "```"
   ]
  },
  {
   "cell_type": "code",
   "execution_count": 44,
   "metadata": {
    "scrolled": true
   },
   "outputs": [
    {
     "name": "stdout",
     "output_type": "stream",
     "text": [
      "Optimization terminated successfully.\n",
      "         Current function value: 0.552290\n",
      "         Iterations 5\n"
     ]
    },
    {
     "data": {
      "text/plain": [
       "array([-1.79681149,  0.00971758,  0.64501572,  0.1027442 ,  0.47533345,\n",
       "        1.03639994,  0.12806205,  0.15301175, -0.0387222 ,  0.37496309,\n",
       "       -0.07446433, -0.27682168,  0.36273724,  0.59364506,  0.99381556,\n",
       "        0.88318575,  1.78530929, -0.03785321])"
      ]
     },
     "execution_count": 44,
     "metadata": {},
     "output_type": "execute_result"
    }
   ],
   "source": [
    "from statsmodels import api as sm\n",
    "\n",
    "logit = sm.Logit(labels, features)\n",
    "logit.fit().params\n"
   ]
  },
  {
   "cell_type": "markdown",
   "metadata": {},
   "source": [
    "### I have checked and think my first method works well."
   ]
  }
 ],
 "metadata": {
  "kernelspec": {
   "display_name": "Python 3",
   "language": "python",
   "name": "python3"
  },
  "language_info": {
   "codemirror_mode": {
    "name": "ipython",
    "version": 3
   },
   "file_extension": ".py",
   "mimetype": "text/x-python",
   "name": "python",
   "nbconvert_exporter": "python",
   "pygments_lexer": "ipython3",
   "version": "3.7.1"
  }
 },
 "nbformat": 4,
 "nbformat_minor": 2
}
