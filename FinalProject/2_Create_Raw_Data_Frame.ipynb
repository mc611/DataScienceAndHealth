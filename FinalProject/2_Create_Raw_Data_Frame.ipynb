{
 "cells": [
  {
   "cell_type": "code",
   "execution_count": 1,
   "metadata": {
    "scrolled": true
   },
   "outputs": [],
   "source": [
    "import pandas as pd\n",
    "import matplotlib.pyplot as plt\n",
    "import seaborn as sns\n",
    "import numpy as np\n",
    "%matplotlib inline"
   ]
  },
  {
   "cell_type": "markdown",
   "metadata": {},
   "source": [
    "# Feature Extraction and Raw Data Frame Creation\n",
    "\n",
    "- In this notebook, we focus on feature selection and feature engineering to create a raw data frame consisting of 6 parts: admission specific, diagnosis, ICU information, demographics, lab results and prescription."
   ]
  },
  {
   "cell_type": "markdown",
   "metadata": {},
   "source": [
    "### Admissions specific \n",
    "- feature: length of stay: 'length_of_stay' "
   ]
  },
  {
   "cell_type": "code",
   "execution_count": 2,
   "metadata": {
    "scrolled": true
   },
   "outputs": [],
   "source": [
    "patients = pd.read_csv('PATIENTS.csv.gz', compression='gzip', header=0, sep=',', quotechar='\"')\n",
    "patients = patients[['SUBJECT_ID','DOD','EXPIRE_FLAG']]"
   ]
  },
  {
   "cell_type": "code",
   "execution_count": 3,
   "metadata": {},
   "outputs": [
    {
     "data": {
      "text/plain": [
       "(46520, 3)"
      ]
     },
     "execution_count": 3,
     "metadata": {},
     "output_type": "execute_result"
    }
   ],
   "source": [
    "patients.shape"
   ]
  },
  {
   "cell_type": "code",
   "execution_count": 4,
   "metadata": {
    "scrolled": true
   },
   "outputs": [],
   "source": [
    "admissions = pd.read_csv('ADMISSIONS.csv.gz', compression='gzip', header=0, sep=',', quotechar='\"')\n",
    "admissions = admissions[['SUBJECT_ID', 'ADMITTIME', 'DISCHTIME']]\n",
    "admissions['length_of_stay'] = ( pd.to_datetime(admissions['DISCHTIME']) - pd.to_datetime(admissions['ADMITTIME']) ).dt.days\n"
   ]
  },
  {
   "cell_type": "code",
   "execution_count": 5,
   "metadata": {},
   "outputs": [],
   "source": [
    "info = pd.merge(patients, admissions, on='SUBJECT_ID', how='outer')\n",
    "info['mortality'] = ( pd.to_datetime(info['DOD']) - pd.to_datetime(info['ADMITTIME']) ).dt.days\n",
    "info['1_yr_mortality'] = np.where(info.mortality.isnull(), 0, np.where(info.mortality >365, 0, 1)) \n",
    "info = info[['SUBJECT_ID', 'length_of_stay', '1_yr_mortality']]\n",
    "info = info.groupby(\"SUBJECT_ID\").sum()"
   ]
  },
  {
   "cell_type": "code",
   "execution_count": 6,
   "metadata": {},
   "outputs": [
    {
     "data": {
      "text/plain": [
       "(46520, 2)"
      ]
     },
     "execution_count": 6,
     "metadata": {},
     "output_type": "execute_result"
    }
   ],
   "source": [
    "info.shape"
   ]
  },
  {
   "cell_type": "markdown",
   "metadata": {},
   "source": [
    "### Diagnosis  \n",
    "- feature: number of codes 'diag_NUM' "
   ]
  },
  {
   "cell_type": "code",
   "execution_count": 7,
   "metadata": {
    "scrolled": true
   },
   "outputs": [],
   "source": [
    "icd1 = pd.read_csv('DIAGNOSES_ICD.csv.gz', compression='gzip', header=0, sep=',', quotechar='\"')\n",
    "icd1 = icd1[['SUBJECT_ID', 'HADM_ID', 'SEQ_NUM']]\n",
    "icd1.columns = ['SUBJECT_ID', 'HADM_ID', 'diag_NUM']"
   ]
  },
  {
   "cell_type": "code",
   "execution_count": 8,
   "metadata": {
    "scrolled": true
   },
   "outputs": [
    {
     "data": {
      "text/plain": [
       "(58976, 2)"
      ]
     },
     "execution_count": 8,
     "metadata": {},
     "output_type": "execute_result"
    }
   ],
   "source": [
    "icd2 = icd1.groupby(\"HADM_ID\").max()\n",
    "icd2.shape"
   ]
  },
  {
   "cell_type": "code",
   "execution_count": 9,
   "metadata": {},
   "outputs": [
    {
     "data": {
      "text/plain": [
       "(46520, 1)"
      ]
     },
     "execution_count": 9,
     "metadata": {},
     "output_type": "execute_result"
    }
   ],
   "source": [
    "icd = icd2.groupby(\"SUBJECT_ID\").sum()\n",
    "icd.shape"
   ]
  },
  {
   "cell_type": "markdown",
   "metadata": {},
   "source": [
    "### ICU information \n",
    "- feature: length of stay in ICU 'LOS'"
   ]
  },
  {
   "cell_type": "code",
   "execution_count": 10,
   "metadata": {
    "scrolled": true
   },
   "outputs": [],
   "source": [
    "icu1 = pd.read_csv('ICUSTAYS.csv.gz', compression='gzip', header=0, sep=',', quotechar='\"')\n",
    "icu1 = icu1[['SUBJECT_ID',  'LOS']]"
   ]
  },
  {
   "cell_type": "code",
   "execution_count": 11,
   "metadata": {},
   "outputs": [
    {
     "data": {
      "text/plain": [
       "(61532, 2)"
      ]
     },
     "execution_count": 11,
     "metadata": {},
     "output_type": "execute_result"
    }
   ],
   "source": [
    "icu1.shape"
   ]
  },
  {
   "cell_type": "code",
   "execution_count": 12,
   "metadata": {
    "scrolled": true
   },
   "outputs": [
    {
     "data": {
      "text/plain": [
       "(46476, 1)"
      ]
     },
     "execution_count": 12,
     "metadata": {},
     "output_type": "execute_result"
    }
   ],
   "source": [
    "icu = icu1.groupby(\"SUBJECT_ID\").sum()\n",
    "icu.shape"
   ]
  },
  {
   "cell_type": "markdown",
   "metadata": {},
   "source": [
    "### Merge three features from the first three parts into a csv file\n",
    "- The saved csv file is named as CMX_features.csv and has three feature columns along with 'SUBJECT_ID'."
   ]
  },
  {
   "cell_type": "code",
   "execution_count": 13,
   "metadata": {},
   "outputs": [
    {
     "data": {
      "text/html": [
       "<div>\n",
       "<style scoped>\n",
       "    .dataframe tbody tr th:only-of-type {\n",
       "        vertical-align: middle;\n",
       "    }\n",
       "\n",
       "    .dataframe tbody tr th {\n",
       "        vertical-align: top;\n",
       "    }\n",
       "\n",
       "    .dataframe thead th {\n",
       "        text-align: right;\n",
       "    }\n",
       "</style>\n",
       "<table border=\"1\" class=\"dataframe\">\n",
       "  <thead>\n",
       "    <tr style=\"text-align: right;\">\n",
       "      <th></th>\n",
       "      <th>length_of_stay</th>\n",
       "      <th>1_yr_mortality</th>\n",
       "      <th>diag_NUM</th>\n",
       "    </tr>\n",
       "    <tr>\n",
       "      <th>SUBJECT_ID</th>\n",
       "      <th></th>\n",
       "      <th></th>\n",
       "      <th></th>\n",
       "    </tr>\n",
       "  </thead>\n",
       "  <tbody>\n",
       "    <tr>\n",
       "      <th>2</th>\n",
       "      <td>3</td>\n",
       "      <td>0</td>\n",
       "      <td>3.0</td>\n",
       "    </tr>\n",
       "    <tr>\n",
       "      <th>3</th>\n",
       "      <td>10</td>\n",
       "      <td>1</td>\n",
       "      <td>9.0</td>\n",
       "    </tr>\n",
       "  </tbody>\n",
       "</table>\n",
       "</div>"
      ],
      "text/plain": [
       "            length_of_stay  1_yr_mortality  diag_NUM\n",
       "SUBJECT_ID                                          \n",
       "2                        3               0       3.0\n",
       "3                       10               1       9.0"
      ]
     },
     "execution_count": 13,
     "metadata": {},
     "output_type": "execute_result"
    }
   ],
   "source": [
    "merge1 = pd.merge(info, icd, on='SUBJECT_ID', how='outer')\n",
    "merge1.head(2)"
   ]
  },
  {
   "cell_type": "code",
   "execution_count": 14,
   "metadata": {
    "scrolled": true
   },
   "outputs": [
    {
     "data": {
      "text/plain": [
       "(46520, 3)"
      ]
     },
     "execution_count": 14,
     "metadata": {},
     "output_type": "execute_result"
    }
   ],
   "source": [
    "merge1.shape"
   ]
  },
  {
   "cell_type": "code",
   "execution_count": 15,
   "metadata": {
    "scrolled": true
   },
   "outputs": [
    {
     "data": {
      "text/html": [
       "<div>\n",
       "<style scoped>\n",
       "    .dataframe tbody tr th:only-of-type {\n",
       "        vertical-align: middle;\n",
       "    }\n",
       "\n",
       "    .dataframe tbody tr th {\n",
       "        vertical-align: top;\n",
       "    }\n",
       "\n",
       "    .dataframe thead th {\n",
       "        text-align: right;\n",
       "    }\n",
       "</style>\n",
       "<table border=\"1\" class=\"dataframe\">\n",
       "  <thead>\n",
       "    <tr style=\"text-align: right;\">\n",
       "      <th></th>\n",
       "      <th>length_of_stay</th>\n",
       "      <th>1_yr_mortality</th>\n",
       "      <th>diag_NUM</th>\n",
       "      <th>LOS</th>\n",
       "    </tr>\n",
       "    <tr>\n",
       "      <th>SUBJECT_ID</th>\n",
       "      <th></th>\n",
       "      <th></th>\n",
       "      <th></th>\n",
       "      <th></th>\n",
       "    </tr>\n",
       "  </thead>\n",
       "  <tbody>\n",
       "    <tr>\n",
       "      <th>2</th>\n",
       "      <td>3</td>\n",
       "      <td>0</td>\n",
       "      <td>3.0</td>\n",
       "      <td>0.0918</td>\n",
       "    </tr>\n",
       "    <tr>\n",
       "      <th>3</th>\n",
       "      <td>10</td>\n",
       "      <td>1</td>\n",
       "      <td>9.0</td>\n",
       "      <td>6.0646</td>\n",
       "    </tr>\n",
       "  </tbody>\n",
       "</table>\n",
       "</div>"
      ],
      "text/plain": [
       "            length_of_stay  1_yr_mortality  diag_NUM     LOS\n",
       "SUBJECT_ID                                                  \n",
       "2                        3               0       3.0  0.0918\n",
       "3                       10               1       9.0  6.0646"
      ]
     },
     "execution_count": 15,
     "metadata": {},
     "output_type": "execute_result"
    }
   ],
   "source": [
    "merge2 = pd.merge(merge1, icu, on='SUBJECT_ID', how='outer')\n",
    "merge2.head(2)"
   ]
  },
  {
   "cell_type": "code",
   "execution_count": 16,
   "metadata": {},
   "outputs": [
    {
     "data": {
      "text/html": [
       "<div>\n",
       "<style scoped>\n",
       "    .dataframe tbody tr th:only-of-type {\n",
       "        vertical-align: middle;\n",
       "    }\n",
       "\n",
       "    .dataframe tbody tr th {\n",
       "        vertical-align: top;\n",
       "    }\n",
       "\n",
       "    .dataframe thead th {\n",
       "        text-align: right;\n",
       "    }\n",
       "</style>\n",
       "<table border=\"1\" class=\"dataframe\">\n",
       "  <thead>\n",
       "    <tr style=\"text-align: right;\">\n",
       "      <th></th>\n",
       "      <th>length_of_stay</th>\n",
       "      <th>1_yr_mortality</th>\n",
       "      <th>diag_NUM</th>\n",
       "      <th>LOS</th>\n",
       "    </tr>\n",
       "    <tr>\n",
       "      <th>SUBJECT_ID</th>\n",
       "      <th></th>\n",
       "      <th></th>\n",
       "      <th></th>\n",
       "      <th></th>\n",
       "    </tr>\n",
       "  </thead>\n",
       "  <tbody>\n",
       "    <tr>\n",
       "      <th>2</th>\n",
       "      <td>3</td>\n",
       "      <td>0</td>\n",
       "      <td>3.0</td>\n",
       "      <td>0.0918</td>\n",
       "    </tr>\n",
       "    <tr>\n",
       "      <th>3</th>\n",
       "      <td>10</td>\n",
       "      <td>1</td>\n",
       "      <td>9.0</td>\n",
       "      <td>6.0646</td>\n",
       "    </tr>\n",
       "    <tr>\n",
       "      <th>4</th>\n",
       "      <td>7</td>\n",
       "      <td>0</td>\n",
       "      <td>9.0</td>\n",
       "      <td>1.6785</td>\n",
       "    </tr>\n",
       "    <tr>\n",
       "      <th>5</th>\n",
       "      <td>2</td>\n",
       "      <td>0</td>\n",
       "      <td>3.0</td>\n",
       "      <td>0.0844</td>\n",
       "    </tr>\n",
       "    <tr>\n",
       "      <th>6</th>\n",
       "      <td>16</td>\n",
       "      <td>0</td>\n",
       "      <td>8.0</td>\n",
       "      <td>3.6729</td>\n",
       "    </tr>\n",
       "  </tbody>\n",
       "</table>\n",
       "</div>"
      ],
      "text/plain": [
       "            length_of_stay  1_yr_mortality  diag_NUM     LOS\n",
       "SUBJECT_ID                                                  \n",
       "2                        3               0       3.0  0.0918\n",
       "3                       10               1       9.0  6.0646\n",
       "4                        7               0       9.0  1.6785\n",
       "5                        2               0       3.0  0.0844\n",
       "6                       16               0       8.0  3.6729"
      ]
     },
     "execution_count": 16,
     "metadata": {},
     "output_type": "execute_result"
    }
   ],
   "source": [
    "df = merge2\n",
    "df.isnull().sum()\n",
    "df = df.fillna(0)\n",
    "df.head()"
   ]
  },
  {
   "cell_type": "code",
   "execution_count": 17,
   "metadata": {},
   "outputs": [
    {
     "data": {
      "text/plain": [
       "(46520, 4)"
      ]
     },
     "execution_count": 17,
     "metadata": {},
     "output_type": "execute_result"
    }
   ],
   "source": [
    "df.shape"
   ]
  },
  {
   "cell_type": "code",
   "execution_count": 18,
   "metadata": {},
   "outputs": [],
   "source": [
    "new_df = df[['length_of_stay', 'diag_NUM', 'LOS']]"
   ]
  },
  {
   "cell_type": "code",
   "execution_count": 19,
   "metadata": {},
   "outputs": [],
   "source": [
    "new_df.to_csv('CMX_features.csv')"
   ]
  },
  {
   "cell_type": "markdown",
   "metadata": {},
   "source": [
    "### Demographics \n",
    "- features: \n",
    "    - categorical features: \n",
    "        - Marital Status, Ethnicity, encoded by one-hot encoding\n",
    "        - Gender (binary feature) coded into 0 (Male) and 1 (Female), 'Gender'\n",
    "    - numerical feature: Age,'Age'                       "
   ]
  },
  {
   "cell_type": "code",
   "execution_count": 33,
   "metadata": {},
   "outputs": [],
   "source": [
    "PATIENTS = pd.read_csv('PATIENTS.csv.gz', compression='gzip', header=0, sep=',', quotechar='\"')\n",
    "ADMISSIONS = pd.read_csv('ADMISSIONS.csv.gz', compression='gzip', header=0, sep=',', quotechar='\"')\n",
    "\n",
    "df_demographic  = pd.merge(ADMISSIONS[['SUBJECT_ID','HADM_ID','MARITAL_STATUS','ETHNICITY','ADMITTIME']],PATIENTS[['SUBJECT_ID','GENDER','DOB','DOD']], \n",
    "                           left_on=['SUBJECT_ID'], right_on=['SUBJECT_ID'], how = 'inner')\n",
    "\n",
    "#select only the last admission time for each patient \n",
    "df_demographic = df_demographic.groupby('SUBJECT_ID').tail(1)\n",
    "\n",
    "\n",
    "df_demographic['1_yr_mortality'] = np.where((pd.to_datetime(df_demographic['DOD'])- pd.to_datetime(df_demographic['ADMITTIME'])).dt.days.isnull(), 0, \n",
    "                                       np.where((pd.to_datetime(df_demographic['DOD'])- pd.to_datetime(df_demographic['ADMITTIME'])).dt.days<=365 , 1, 0))"
   ]
  },
  {
   "cell_type": "markdown",
   "metadata": {},
   "source": [
    "### Get Age"
   ]
  },
  {
   "cell_type": "code",
   "execution_count": 34,
   "metadata": {},
   "outputs": [
    {
     "data": {
      "text/html": [
       "<div>\n",
       "<style scoped>\n",
       "    .dataframe tbody tr th:only-of-type {\n",
       "        vertical-align: middle;\n",
       "    }\n",
       "\n",
       "    .dataframe tbody tr th {\n",
       "        vertical-align: top;\n",
       "    }\n",
       "\n",
       "    .dataframe thead th {\n",
       "        text-align: right;\n",
       "    }\n",
       "</style>\n",
       "<table border=\"1\" class=\"dataframe\">\n",
       "  <thead>\n",
       "    <tr style=\"text-align: right;\">\n",
       "      <th></th>\n",
       "      <th>SUBJECT_ID</th>\n",
       "      <th>HADM_ID</th>\n",
       "      <th>MARITAL_STATUS</th>\n",
       "      <th>ETHNICITY</th>\n",
       "      <th>ADMITTIME</th>\n",
       "      <th>GENDER</th>\n",
       "      <th>DOB</th>\n",
       "      <th>DOD</th>\n",
       "      <th>1_yr_mortality</th>\n",
       "      <th>Age</th>\n",
       "    </tr>\n",
       "  </thead>\n",
       "  <tbody>\n",
       "    <tr>\n",
       "      <th>0</th>\n",
       "      <td>22</td>\n",
       "      <td>165315</td>\n",
       "      <td>MARRIED</td>\n",
       "      <td>WHITE</td>\n",
       "      <td>2196-04-09 12:26:00</td>\n",
       "      <td>F</td>\n",
       "      <td>2131-05-07</td>\n",
       "      <td>NaN</td>\n",
       "      <td>0</td>\n",
       "      <td>0</td>\n",
       "    </tr>\n",
       "    <tr>\n",
       "      <th>2</th>\n",
       "      <td>23</td>\n",
       "      <td>124321</td>\n",
       "      <td>MARRIED</td>\n",
       "      <td>WHITE</td>\n",
       "      <td>2157-10-18 19:34:00</td>\n",
       "      <td>M</td>\n",
       "      <td>2082-07-17</td>\n",
       "      <td>NaN</td>\n",
       "      <td>0</td>\n",
       "      <td>0</td>\n",
       "    </tr>\n",
       "    <tr>\n",
       "      <th>3</th>\n",
       "      <td>24</td>\n",
       "      <td>161859</td>\n",
       "      <td>SINGLE</td>\n",
       "      <td>WHITE</td>\n",
       "      <td>2139-06-06 16:14:00</td>\n",
       "      <td>M</td>\n",
       "      <td>2100-05-31</td>\n",
       "      <td>NaN</td>\n",
       "      <td>0</td>\n",
       "      <td>0</td>\n",
       "    </tr>\n",
       "    <tr>\n",
       "      <th>4</th>\n",
       "      <td>25</td>\n",
       "      <td>129635</td>\n",
       "      <td>MARRIED</td>\n",
       "      <td>WHITE</td>\n",
       "      <td>2160-11-02 02:06:00</td>\n",
       "      <td>M</td>\n",
       "      <td>2101-11-21</td>\n",
       "      <td>NaN</td>\n",
       "      <td>0</td>\n",
       "      <td>0</td>\n",
       "    </tr>\n",
       "    <tr>\n",
       "      <th>5</th>\n",
       "      <td>26</td>\n",
       "      <td>197661</td>\n",
       "      <td>SINGLE</td>\n",
       "      <td>UNKNOWN/NOT SPECIFIED</td>\n",
       "      <td>2126-05-06 15:16:00</td>\n",
       "      <td>M</td>\n",
       "      <td>2054-05-04</td>\n",
       "      <td>2128-02-25 00:00:00</td>\n",
       "      <td>0</td>\n",
       "      <td>0</td>\n",
       "    </tr>\n",
       "  </tbody>\n",
       "</table>\n",
       "</div>"
      ],
      "text/plain": [
       "   SUBJECT_ID  HADM_ID MARITAL_STATUS              ETHNICITY  \\\n",
       "0          22   165315        MARRIED                  WHITE   \n",
       "2          23   124321        MARRIED                  WHITE   \n",
       "3          24   161859         SINGLE                  WHITE   \n",
       "4          25   129635        MARRIED                  WHITE   \n",
       "5          26   197661         SINGLE  UNKNOWN/NOT SPECIFIED   \n",
       "\n",
       "            ADMITTIME GENDER        DOB                  DOD  1_yr_mortality  \\\n",
       "0 2196-04-09 12:26:00      F 2131-05-07                  NaN               0   \n",
       "2 2157-10-18 19:34:00      M 2082-07-17                  NaN               0   \n",
       "3 2139-06-06 16:14:00      M 2100-05-31                  NaN               0   \n",
       "4 2160-11-02 02:06:00      M 2101-11-21                  NaN               0   \n",
       "5 2126-05-06 15:16:00      M 2054-05-04  2128-02-25 00:00:00               0   \n",
       "\n",
       "   Age  \n",
       "0    0  \n",
       "2    0  \n",
       "3    0  \n",
       "4    0  \n",
       "5    0  "
      ]
     },
     "execution_count": 34,
     "metadata": {},
     "output_type": "execute_result"
    }
   ],
   "source": [
    "df_demographic['ADMITTIME'] = pd.to_datetime(df_demographic['ADMITTIME'])\n",
    "df_demographic['DOB']= pd.to_datetime(df_demographic['DOB'])\n",
    "\n",
    "df_demographic['Age'] = 0\n",
    "df_demographic.head()"
   ]
  },
  {
   "cell_type": "code",
   "execution_count": 35,
   "metadata": {},
   "outputs": [],
   "source": [
    "#fill in age values based on the difference of 'ADMITTIME' and 'DOB'\n",
    "for i in range(0, len(df_demographic)):\n",
    "    age = df_demographic.iloc[i,4].year-df_demographic.iloc[i,6].year\n",
    "    df_demographic.iloc[i,9] = age"
   ]
  },
  {
   "cell_type": "code",
   "execution_count": 36,
   "metadata": {},
   "outputs": [
    {
     "data": {
      "text/html": [
       "<div>\n",
       "<style scoped>\n",
       "    .dataframe tbody tr th:only-of-type {\n",
       "        vertical-align: middle;\n",
       "    }\n",
       "\n",
       "    .dataframe tbody tr th {\n",
       "        vertical-align: top;\n",
       "    }\n",
       "\n",
       "    .dataframe thead th {\n",
       "        text-align: right;\n",
       "    }\n",
       "</style>\n",
       "<table border=\"1\" class=\"dataframe\">\n",
       "  <thead>\n",
       "    <tr style=\"text-align: right;\">\n",
       "      <th></th>\n",
       "      <th>SUBJECT_ID</th>\n",
       "      <th>HADM_ID</th>\n",
       "      <th>MARITAL_STATUS</th>\n",
       "      <th>ETHNICITY</th>\n",
       "      <th>ADMITTIME</th>\n",
       "      <th>GENDER</th>\n",
       "      <th>DOB</th>\n",
       "      <th>DOD</th>\n",
       "      <th>1_yr_mortality</th>\n",
       "      <th>Age</th>\n",
       "    </tr>\n",
       "  </thead>\n",
       "  <tbody>\n",
       "    <tr>\n",
       "      <th>0</th>\n",
       "      <td>22</td>\n",
       "      <td>165315</td>\n",
       "      <td>MARRIED</td>\n",
       "      <td>WHITE</td>\n",
       "      <td>2196-04-09 12:26:00</td>\n",
       "      <td>F</td>\n",
       "      <td>2131-05-07</td>\n",
       "      <td>NaN</td>\n",
       "      <td>0</td>\n",
       "      <td>65</td>\n",
       "    </tr>\n",
       "    <tr>\n",
       "      <th>2</th>\n",
       "      <td>23</td>\n",
       "      <td>124321</td>\n",
       "      <td>MARRIED</td>\n",
       "      <td>WHITE</td>\n",
       "      <td>2157-10-18 19:34:00</td>\n",
       "      <td>M</td>\n",
       "      <td>2082-07-17</td>\n",
       "      <td>NaN</td>\n",
       "      <td>0</td>\n",
       "      <td>75</td>\n",
       "    </tr>\n",
       "    <tr>\n",
       "      <th>3</th>\n",
       "      <td>24</td>\n",
       "      <td>161859</td>\n",
       "      <td>SINGLE</td>\n",
       "      <td>WHITE</td>\n",
       "      <td>2139-06-06 16:14:00</td>\n",
       "      <td>M</td>\n",
       "      <td>2100-05-31</td>\n",
       "      <td>NaN</td>\n",
       "      <td>0</td>\n",
       "      <td>39</td>\n",
       "    </tr>\n",
       "    <tr>\n",
       "      <th>4</th>\n",
       "      <td>25</td>\n",
       "      <td>129635</td>\n",
       "      <td>MARRIED</td>\n",
       "      <td>WHITE</td>\n",
       "      <td>2160-11-02 02:06:00</td>\n",
       "      <td>M</td>\n",
       "      <td>2101-11-21</td>\n",
       "      <td>NaN</td>\n",
       "      <td>0</td>\n",
       "      <td>59</td>\n",
       "    </tr>\n",
       "    <tr>\n",
       "      <th>5</th>\n",
       "      <td>26</td>\n",
       "      <td>197661</td>\n",
       "      <td>SINGLE</td>\n",
       "      <td>UNKNOWN/NOT SPECIFIED</td>\n",
       "      <td>2126-05-06 15:16:00</td>\n",
       "      <td>M</td>\n",
       "      <td>2054-05-04</td>\n",
       "      <td>2128-02-25 00:00:00</td>\n",
       "      <td>0</td>\n",
       "      <td>72</td>\n",
       "    </tr>\n",
       "  </tbody>\n",
       "</table>\n",
       "</div>"
      ],
      "text/plain": [
       "   SUBJECT_ID  HADM_ID MARITAL_STATUS              ETHNICITY  \\\n",
       "0          22   165315        MARRIED                  WHITE   \n",
       "2          23   124321        MARRIED                  WHITE   \n",
       "3          24   161859         SINGLE                  WHITE   \n",
       "4          25   129635        MARRIED                  WHITE   \n",
       "5          26   197661         SINGLE  UNKNOWN/NOT SPECIFIED   \n",
       "\n",
       "            ADMITTIME GENDER        DOB                  DOD  1_yr_mortality  \\\n",
       "0 2196-04-09 12:26:00      F 2131-05-07                  NaN               0   \n",
       "2 2157-10-18 19:34:00      M 2082-07-17                  NaN               0   \n",
       "3 2139-06-06 16:14:00      M 2100-05-31                  NaN               0   \n",
       "4 2160-11-02 02:06:00      M 2101-11-21                  NaN               0   \n",
       "5 2126-05-06 15:16:00      M 2054-05-04  2128-02-25 00:00:00               0   \n",
       "\n",
       "   Age  \n",
       "0   65  \n",
       "2   75  \n",
       "3   39  \n",
       "4   59  \n",
       "5   72  "
      ]
     },
     "execution_count": 36,
     "metadata": {},
     "output_type": "execute_result"
    }
   ],
   "source": [
    "df_demographic.head()"
   ]
  },
  {
   "cell_type": "code",
   "execution_count": 55,
   "metadata": {},
   "outputs": [],
   "source": [
    "#save to csv file demographic_without_one_hot.csv for EDA\n",
    "df_demographic = df_demographic[(df_demographic['Age'] <150) & (df_demographic['Age'] >5)]\n",
    "df_demographic.to_csv(r'demographic_without_one_hot.csv',header = True)"
   ]
  },
  {
   "cell_type": "markdown",
   "metadata": {},
   "source": [
    "### Get Marital Status, Ethnicity and Gender "
   ]
  },
  {
   "cell_type": "code",
   "execution_count": 38,
   "metadata": {},
   "outputs": [],
   "source": [
    "# Get one hot encoding of ETHNICITY\n",
    "one_hot = pd.get_dummies(df_demographic['ETHNICITY'])\n",
    "# Drop ETHNICITY as it is now encoded\n",
    "df_demographic = df_demographic.drop('ETHNICITY',axis = 1)\n",
    "# Join the encoded df\n",
    "df_demographic = df_demographic.join(one_hot)"
   ]
  },
  {
   "cell_type": "code",
   "execution_count": 39,
   "metadata": {},
   "outputs": [],
   "source": [
    "# Get one hot encoding of columns MARITAL_STATUS\n",
    "one_hot_m = pd.get_dummies(df_demographic['MARITAL_STATUS'])\n",
    "# Drop MARITAL_STATUS as it is now encoded\n",
    "df_demographic = df_demographic.drop('MARITAL_STATUS',axis = 1)\n",
    "# Join the encoded df\n",
    "df_demographic = df_demographic.join(one_hot_m)"
   ]
  },
  {
   "cell_type": "code",
   "execution_count": 40,
   "metadata": {},
   "outputs": [],
   "source": [
    "# Get one hot encoding of columns GENDER\n",
    "one_hot_gender = pd.get_dummies(df_demographic['GENDER'])\n",
    "# Drop GENDER as it is now encoded\n",
    "df_demographic = df_demographic.drop('GENDER',axis = 1)\n",
    "# Join the encoded df\n",
    "df_demographic = df_demographic.join(one_hot_gender)\n",
    "df_demographic = df_demographic.drop('M',axis = 1)\n",
    "df_demographic.rename(columns={'F': 'GENDER'}, inplace=True)"
   ]
  },
  {
   "cell_type": "code",
   "execution_count": 41,
   "metadata": {},
   "outputs": [
    {
     "data": {
      "text/html": [
       "<div>\n",
       "<style scoped>\n",
       "    .dataframe tbody tr th:only-of-type {\n",
       "        vertical-align: middle;\n",
       "    }\n",
       "\n",
       "    .dataframe tbody tr th {\n",
       "        vertical-align: top;\n",
       "    }\n",
       "\n",
       "    .dataframe thead th {\n",
       "        text-align: right;\n",
       "    }\n",
       "</style>\n",
       "<table border=\"1\" class=\"dataframe\">\n",
       "  <thead>\n",
       "    <tr style=\"text-align: right;\">\n",
       "      <th></th>\n",
       "      <th>SUBJECT_ID</th>\n",
       "      <th>HADM_ID</th>\n",
       "      <th>ADMITTIME</th>\n",
       "      <th>DOB</th>\n",
       "      <th>DOD</th>\n",
       "      <th>1_yr_mortality</th>\n",
       "      <th>Age</th>\n",
       "      <th>AMERICAN INDIAN/ALASKA NATIVE</th>\n",
       "      <th>AMERICAN INDIAN/ALASKA NATIVE FEDERALLY RECOGNIZED TRIBE</th>\n",
       "      <th>ASIAN</th>\n",
       "      <th>...</th>\n",
       "      <th>WHITE - OTHER EUROPEAN</th>\n",
       "      <th>WHITE - RUSSIAN</th>\n",
       "      <th>DIVORCED</th>\n",
       "      <th>LIFE PARTNER</th>\n",
       "      <th>MARRIED</th>\n",
       "      <th>SEPARATED</th>\n",
       "      <th>SINGLE</th>\n",
       "      <th>UNKNOWN (DEFAULT)</th>\n",
       "      <th>WIDOWED</th>\n",
       "      <th>GENDER</th>\n",
       "    </tr>\n",
       "  </thead>\n",
       "  <tbody>\n",
       "    <tr>\n",
       "      <th>0</th>\n",
       "      <td>22</td>\n",
       "      <td>165315</td>\n",
       "      <td>2196-04-09 12:26:00</td>\n",
       "      <td>2131-05-07</td>\n",
       "      <td>NaN</td>\n",
       "      <td>0</td>\n",
       "      <td>65</td>\n",
       "      <td>0</td>\n",
       "      <td>0</td>\n",
       "      <td>0</td>\n",
       "      <td>...</td>\n",
       "      <td>0</td>\n",
       "      <td>0</td>\n",
       "      <td>0</td>\n",
       "      <td>0</td>\n",
       "      <td>1</td>\n",
       "      <td>0</td>\n",
       "      <td>0</td>\n",
       "      <td>0</td>\n",
       "      <td>0</td>\n",
       "      <td>1</td>\n",
       "    </tr>\n",
       "    <tr>\n",
       "      <th>2</th>\n",
       "      <td>23</td>\n",
       "      <td>124321</td>\n",
       "      <td>2157-10-18 19:34:00</td>\n",
       "      <td>2082-07-17</td>\n",
       "      <td>NaN</td>\n",
       "      <td>0</td>\n",
       "      <td>75</td>\n",
       "      <td>0</td>\n",
       "      <td>0</td>\n",
       "      <td>0</td>\n",
       "      <td>...</td>\n",
       "      <td>0</td>\n",
       "      <td>0</td>\n",
       "      <td>0</td>\n",
       "      <td>0</td>\n",
       "      <td>1</td>\n",
       "      <td>0</td>\n",
       "      <td>0</td>\n",
       "      <td>0</td>\n",
       "      <td>0</td>\n",
       "      <td>0</td>\n",
       "    </tr>\n",
       "    <tr>\n",
       "      <th>3</th>\n",
       "      <td>24</td>\n",
       "      <td>161859</td>\n",
       "      <td>2139-06-06 16:14:00</td>\n",
       "      <td>2100-05-31</td>\n",
       "      <td>NaN</td>\n",
       "      <td>0</td>\n",
       "      <td>39</td>\n",
       "      <td>0</td>\n",
       "      <td>0</td>\n",
       "      <td>0</td>\n",
       "      <td>...</td>\n",
       "      <td>0</td>\n",
       "      <td>0</td>\n",
       "      <td>0</td>\n",
       "      <td>0</td>\n",
       "      <td>0</td>\n",
       "      <td>0</td>\n",
       "      <td>1</td>\n",
       "      <td>0</td>\n",
       "      <td>0</td>\n",
       "      <td>0</td>\n",
       "    </tr>\n",
       "    <tr>\n",
       "      <th>4</th>\n",
       "      <td>25</td>\n",
       "      <td>129635</td>\n",
       "      <td>2160-11-02 02:06:00</td>\n",
       "      <td>2101-11-21</td>\n",
       "      <td>NaN</td>\n",
       "      <td>0</td>\n",
       "      <td>59</td>\n",
       "      <td>0</td>\n",
       "      <td>0</td>\n",
       "      <td>0</td>\n",
       "      <td>...</td>\n",
       "      <td>0</td>\n",
       "      <td>0</td>\n",
       "      <td>0</td>\n",
       "      <td>0</td>\n",
       "      <td>1</td>\n",
       "      <td>0</td>\n",
       "      <td>0</td>\n",
       "      <td>0</td>\n",
       "      <td>0</td>\n",
       "      <td>0</td>\n",
       "    </tr>\n",
       "    <tr>\n",
       "      <th>5</th>\n",
       "      <td>26</td>\n",
       "      <td>197661</td>\n",
       "      <td>2126-05-06 15:16:00</td>\n",
       "      <td>2054-05-04</td>\n",
       "      <td>2128-02-25 00:00:00</td>\n",
       "      <td>0</td>\n",
       "      <td>72</td>\n",
       "      <td>0</td>\n",
       "      <td>0</td>\n",
       "      <td>0</td>\n",
       "      <td>...</td>\n",
       "      <td>0</td>\n",
       "      <td>0</td>\n",
       "      <td>0</td>\n",
       "      <td>0</td>\n",
       "      <td>0</td>\n",
       "      <td>0</td>\n",
       "      <td>1</td>\n",
       "      <td>0</td>\n",
       "      <td>0</td>\n",
       "      <td>0</td>\n",
       "    </tr>\n",
       "  </tbody>\n",
       "</table>\n",
       "<p>5 rows × 56 columns</p>\n",
       "</div>"
      ],
      "text/plain": [
       "   SUBJECT_ID  HADM_ID           ADMITTIME        DOB                  DOD  \\\n",
       "0          22   165315 2196-04-09 12:26:00 2131-05-07                  NaN   \n",
       "2          23   124321 2157-10-18 19:34:00 2082-07-17                  NaN   \n",
       "3          24   161859 2139-06-06 16:14:00 2100-05-31                  NaN   \n",
       "4          25   129635 2160-11-02 02:06:00 2101-11-21                  NaN   \n",
       "5          26   197661 2126-05-06 15:16:00 2054-05-04  2128-02-25 00:00:00   \n",
       "\n",
       "   1_yr_mortality  Age  AMERICAN INDIAN/ALASKA NATIVE  \\\n",
       "0               0   65                              0   \n",
       "2               0   75                              0   \n",
       "3               0   39                              0   \n",
       "4               0   59                              0   \n",
       "5               0   72                              0   \n",
       "\n",
       "   AMERICAN INDIAN/ALASKA NATIVE FEDERALLY RECOGNIZED TRIBE  ASIAN  ...  \\\n",
       "0                                                  0             0  ...   \n",
       "2                                                  0             0  ...   \n",
       "3                                                  0             0  ...   \n",
       "4                                                  0             0  ...   \n",
       "5                                                  0             0  ...   \n",
       "\n",
       "   WHITE - OTHER EUROPEAN  WHITE - RUSSIAN  DIVORCED  LIFE PARTNER  MARRIED  \\\n",
       "0                       0                0         0             0        1   \n",
       "2                       0                0         0             0        1   \n",
       "3                       0                0         0             0        0   \n",
       "4                       0                0         0             0        1   \n",
       "5                       0                0         0             0        0   \n",
       "\n",
       "   SEPARATED  SINGLE  UNKNOWN (DEFAULT)  WIDOWED  GENDER  \n",
       "0          0       0                  0        0       1  \n",
       "2          0       0                  0        0       0  \n",
       "3          0       1                  0        0       0  \n",
       "4          0       0                  0        0       0  \n",
       "5          0       1                  0        0       0  \n",
       "\n",
       "[5 rows x 56 columns]"
      ]
     },
     "execution_count": 41,
     "metadata": {},
     "output_type": "execute_result"
    }
   ],
   "source": [
    "df_demographic.head()"
   ]
  },
  {
   "cell_type": "code",
   "execution_count": 42,
   "metadata": {},
   "outputs": [
    {
     "data": {
      "text/plain": [
       "(46520, 56)"
      ]
     },
     "execution_count": 42,
     "metadata": {},
     "output_type": "execute_result"
    }
   ],
   "source": [
    "df_demographic.shape"
   ]
  },
  {
   "cell_type": "code",
   "execution_count": 43,
   "metadata": {},
   "outputs": [
    {
     "data": {
      "image/png": "[encoded data removed]",
      "text/plain": [
       "<Figure size 432x288 with 1 Axes>"
      ]
     },
     "metadata": {},
     "output_type": "display_data"
    }
   ],
   "source": [
    "#demographic plot \n",
    "sns.set(color_codes=True)\n",
    "df_0 = df_demographic[df_demographic['1_yr_mortality'] ==0]\n",
    "df_1 = df_demographic[df_demographic['1_yr_mortality'] ==1]\n",
    "\n",
    "sns.distplot(df_0['Age'],label ='1_yr_mortality =0')\n",
    "sns.distplot(df_1['Age'],label ='1_yr_mortality =1')\n",
    "plt.legend()\n",
    "plt.xlabel('Age')\n",
    "plt.ylabel('Frequency density')\n",
    "plt.title('Age distributions')\n",
    "plt.savefig('Age_distribution_raw.png')"
   ]
  },
  {
   "cell_type": "code",
   "execution_count": 44,
   "metadata": {},
   "outputs": [
    {
     "name": "stdout",
     "output_type": "stream",
     "text": [
      "36655 46520\n"
     ]
    }
   ],
   "source": [
    "#age <=150 and avoid newborns \n",
    "df_demo_new = df_demographic[(df_demographic['Age'] <150) & (df_demographic['Age'] >5)  ]\n",
    "print(len(df_demo_new),len(df_demographic))"
   ]
  },
  {
   "cell_type": "code",
   "execution_count": 45,
   "metadata": {},
   "outputs": [
    {
     "data": {
      "image/png": "[encoded data removed]",
      "text/plain": [
       "<Figure size 432x288 with 1 Axes>"
      ]
     },
     "metadata": {},
     "output_type": "display_data"
    }
   ],
   "source": [
    "# new demographic plot ruled out newborns and ages over 300\n",
    "df_0_new = df_demo_new[df_demo_new['1_yr_mortality'] ==0]\n",
    "df_1_new= df_demo_new[df_demo_new['1_yr_mortality'] ==1]\n",
    "\n",
    "sns.distplot(df_0_new['Age'],label ='1_yr_mortality =0')\n",
    "sns.distplot(df_1_new['Age'],label ='1_yr_mortality =1')\n",
    "plt.legend()\n",
    "plt.xlabel('Age')\n",
    "plt.ylabel('Frequency density')\n",
    "plt.title('Age distributions of the cleaned dataset')\n",
    "plt.savefig('Age_distribution_cleaned.png')"
   ]
  },
  {
   "cell_type": "code",
   "execution_count": 46,
   "metadata": {},
   "outputs": [],
   "source": [
    "df_demographic_new = df_demographic.drop(['HADM_ID','ADMITTIME','DOB','DOD','1_yr_mortality'],axis = 1)"
   ]
  },
  {
   "cell_type": "code",
   "execution_count": 48,
   "metadata": {},
   "outputs": [
    {
     "data": {
      "text/html": [
       "<div>\n",
       "<style scoped>\n",
       "    .dataframe tbody tr th:only-of-type {\n",
       "        vertical-align: middle;\n",
       "    }\n",
       "\n",
       "    .dataframe tbody tr th {\n",
       "        vertical-align: top;\n",
       "    }\n",
       "\n",
       "    .dataframe thead th {\n",
       "        text-align: right;\n",
       "    }\n",
       "</style>\n",
       "<table border=\"1\" class=\"dataframe\">\n",
       "  <thead>\n",
       "    <tr style=\"text-align: right;\">\n",
       "      <th></th>\n",
       "      <th>SUBJECT_ID</th>\n",
       "      <th>Age</th>\n",
       "      <th>AMERICAN INDIAN/ALASKA NATIVE</th>\n",
       "      <th>AMERICAN INDIAN/ALASKA NATIVE FEDERALLY RECOGNIZED TRIBE</th>\n",
       "      <th>ASIAN</th>\n",
       "      <th>ASIAN - ASIAN INDIAN</th>\n",
       "      <th>ASIAN - CAMBODIAN</th>\n",
       "      <th>ASIAN - CHINESE</th>\n",
       "      <th>ASIAN - FILIPINO</th>\n",
       "      <th>ASIAN - JAPANESE</th>\n",
       "      <th>...</th>\n",
       "      <th>WHITE - OTHER EUROPEAN</th>\n",
       "      <th>WHITE - RUSSIAN</th>\n",
       "      <th>DIVORCED</th>\n",
       "      <th>LIFE PARTNER</th>\n",
       "      <th>MARRIED</th>\n",
       "      <th>SEPARATED</th>\n",
       "      <th>SINGLE</th>\n",
       "      <th>UNKNOWN (DEFAULT)</th>\n",
       "      <th>WIDOWED</th>\n",
       "      <th>GENDER</th>\n",
       "    </tr>\n",
       "  </thead>\n",
       "  <tbody>\n",
       "    <tr>\n",
       "      <th>0</th>\n",
       "      <td>22</td>\n",
       "      <td>65</td>\n",
       "      <td>0</td>\n",
       "      <td>0</td>\n",
       "      <td>0</td>\n",
       "      <td>0</td>\n",
       "      <td>0</td>\n",
       "      <td>0</td>\n",
       "      <td>0</td>\n",
       "      <td>0</td>\n",
       "      <td>...</td>\n",
       "      <td>0</td>\n",
       "      <td>0</td>\n",
       "      <td>0</td>\n",
       "      <td>0</td>\n",
       "      <td>1</td>\n",
       "      <td>0</td>\n",
       "      <td>0</td>\n",
       "      <td>0</td>\n",
       "      <td>0</td>\n",
       "      <td>1</td>\n",
       "    </tr>\n",
       "    <tr>\n",
       "      <th>2</th>\n",
       "      <td>23</td>\n",
       "      <td>75</td>\n",
       "      <td>0</td>\n",
       "      <td>0</td>\n",
       "      <td>0</td>\n",
       "      <td>0</td>\n",
       "      <td>0</td>\n",
       "      <td>0</td>\n",
       "      <td>0</td>\n",
       "      <td>0</td>\n",
       "      <td>...</td>\n",
       "      <td>0</td>\n",
       "      <td>0</td>\n",
       "      <td>0</td>\n",
       "      <td>0</td>\n",
       "      <td>1</td>\n",
       "      <td>0</td>\n",
       "      <td>0</td>\n",
       "      <td>0</td>\n",
       "      <td>0</td>\n",
       "      <td>0</td>\n",
       "    </tr>\n",
       "    <tr>\n",
       "      <th>3</th>\n",
       "      <td>24</td>\n",
       "      <td>39</td>\n",
       "      <td>0</td>\n",
       "      <td>0</td>\n",
       "      <td>0</td>\n",
       "      <td>0</td>\n",
       "      <td>0</td>\n",
       "      <td>0</td>\n",
       "      <td>0</td>\n",
       "      <td>0</td>\n",
       "      <td>...</td>\n",
       "      <td>0</td>\n",
       "      <td>0</td>\n",
       "      <td>0</td>\n",
       "      <td>0</td>\n",
       "      <td>0</td>\n",
       "      <td>0</td>\n",
       "      <td>1</td>\n",
       "      <td>0</td>\n",
       "      <td>0</td>\n",
       "      <td>0</td>\n",
       "    </tr>\n",
       "    <tr>\n",
       "      <th>4</th>\n",
       "      <td>25</td>\n",
       "      <td>59</td>\n",
       "      <td>0</td>\n",
       "      <td>0</td>\n",
       "      <td>0</td>\n",
       "      <td>0</td>\n",
       "      <td>0</td>\n",
       "      <td>0</td>\n",
       "      <td>0</td>\n",
       "      <td>0</td>\n",
       "      <td>...</td>\n",
       "      <td>0</td>\n",
       "      <td>0</td>\n",
       "      <td>0</td>\n",
       "      <td>0</td>\n",
       "      <td>1</td>\n",
       "      <td>0</td>\n",
       "      <td>0</td>\n",
       "      <td>0</td>\n",
       "      <td>0</td>\n",
       "      <td>0</td>\n",
       "    </tr>\n",
       "    <tr>\n",
       "      <th>5</th>\n",
       "      <td>26</td>\n",
       "      <td>72</td>\n",
       "      <td>0</td>\n",
       "      <td>0</td>\n",
       "      <td>0</td>\n",
       "      <td>0</td>\n",
       "      <td>0</td>\n",
       "      <td>0</td>\n",
       "      <td>0</td>\n",
       "      <td>0</td>\n",
       "      <td>...</td>\n",
       "      <td>0</td>\n",
       "      <td>0</td>\n",
       "      <td>0</td>\n",
       "      <td>0</td>\n",
       "      <td>0</td>\n",
       "      <td>0</td>\n",
       "      <td>1</td>\n",
       "      <td>0</td>\n",
       "      <td>0</td>\n",
       "      <td>0</td>\n",
       "    </tr>\n",
       "  </tbody>\n",
       "</table>\n",
       "<p>5 rows × 51 columns</p>\n",
       "</div>"
      ],
      "text/plain": [
       "   SUBJECT_ID  Age  AMERICAN INDIAN/ALASKA NATIVE  \\\n",
       "0          22   65                              0   \n",
       "2          23   75                              0   \n",
       "3          24   39                              0   \n",
       "4          25   59                              0   \n",
       "5          26   72                              0   \n",
       "\n",
       "   AMERICAN INDIAN/ALASKA NATIVE FEDERALLY RECOGNIZED TRIBE  ASIAN  \\\n",
       "0                                                  0             0   \n",
       "2                                                  0             0   \n",
       "3                                                  0             0   \n",
       "4                                                  0             0   \n",
       "5                                                  0             0   \n",
       "\n",
       "   ASIAN - ASIAN INDIAN  ASIAN - CAMBODIAN  ASIAN - CHINESE  ASIAN - FILIPINO  \\\n",
       "0                     0                  0                0                 0   \n",
       "2                     0                  0                0                 0   \n",
       "3                     0                  0                0                 0   \n",
       "4                     0                  0                0                 0   \n",
       "5                     0                  0                0                 0   \n",
       "\n",
       "   ASIAN - JAPANESE  ...  WHITE - OTHER EUROPEAN  WHITE - RUSSIAN  DIVORCED  \\\n",
       "0                 0  ...                       0                0         0   \n",
       "2                 0  ...                       0                0         0   \n",
       "3                 0  ...                       0                0         0   \n",
       "4                 0  ...                       0                0         0   \n",
       "5                 0  ...                       0                0         0   \n",
       "\n",
       "   LIFE PARTNER  MARRIED  SEPARATED  SINGLE  UNKNOWN (DEFAULT)  WIDOWED  \\\n",
       "0             0        1          0       0                  0        0   \n",
       "2             0        1          0       0                  0        0   \n",
       "3             0        0          0       1                  0        0   \n",
       "4             0        1          0       0                  0        0   \n",
       "5             0        0          0       1                  0        0   \n",
       "\n",
       "   GENDER  \n",
       "0       1  \n",
       "2       0  \n",
       "3       0  \n",
       "4       0  \n",
       "5       0  \n",
       "\n",
       "[5 rows x 51 columns]"
      ]
     },
     "execution_count": 48,
     "metadata": {},
     "output_type": "execute_result"
    }
   ],
   "source": [
    "df_demographic_new.head()"
   ]
  },
  {
   "cell_type": "markdown",
   "metadata": {},
   "source": [
    "### Save demographic part into a csv file\n",
    "- save finalized demographic features to csv file 'demographic_raw.csv' along with 'SUBJECT_ID'"
   ]
  },
  {
   "cell_type": "code",
   "execution_count": 47,
   "metadata": {},
   "outputs": [],
   "source": [
    "df_demographic_new.to_csv(r'demographic_raw.csv',header = True)"
   ]
  },
  {
   "cell_type": "markdown",
   "metadata": {},
   "source": [
    "### Lab results (Part I)\n",
    "- get abnormal percentage for 23 lab tests"
   ]
  },
  {
   "cell_type": "code",
   "execution_count": 49,
   "metadata": {},
   "outputs": [],
   "source": [
    "labevents = pd.read_csv('LABEVENTS.csv.gz', compression='gzip', header=0, sep=',', quotechar='\"')\n",
    "labitems = pd.read_csv('D_LABITEMS.csv.gz', compression='gzip', header=0, sep=',', quotechar='\"')"
   ]
  },
  {
   "cell_type": "code",
   "execution_count": 50,
   "metadata": {},
   "outputs": [
    {
     "data": {
      "text/plain": [
       "array(['units', nan, 'mEq/L', 'mmol/L', 'mm Hg', 'mg/dL', 'ug/mL', '%',\n",
       "       'IU/L', 'g/dL', 'pg', 'fL', 'K/uL', 'm/uL', 'EU/dL', ' ', '#/hpf',\n",
       "       '#/lpf', 'ng/mL', 'ng/ml', 'sec', 'SECONDS', 'Ratio', '#/uL',\n",
       "       'mOsm/kg', 'ug/dL', 'uU/ML', 'uG/DL', 'MG/DL', 'L/min', 'uIU/mL',\n",
       "       'pg/mL', '+/-', 'ng/dL', 'mm/hr', 'umol/L', 'mg/L', 'mIU/mL',\n",
       "       'GPL', 'MPL', 'MEQ/L', 'MM HG', 'UNITS', 'MOSM/L', 'mg/g', 'IU/mL',\n",
       "       'Pos/Neg', 'mg/24hr', 'mL', 'Score', 'U/mL', 'mg/24hours', 'ng/dl',\n",
       "       'mIU/L', 'MOSM/KG', 'ug/ml', 'I.U.', 'NG/DL', '#/CU MM', 'U/g/Hb',\n",
       "       'ug/L', 'nG/mL', 'U/L', 'mL/min', 'hrs', 'min', 'nG/ML', 'RATIO',\n",
       "       'U', '/mm3', 'nmol/L'], dtype=object)"
      ]
     },
     "execution_count": 50,
     "metadata": {},
     "output_type": "execute_result"
    }
   ],
   "source": [
    "unit_unique = labevents['VALUEUOM'].unique()\n",
    "unit_unique"
   ]
  },
  {
   "cell_type": "code",
   "execution_count": 51,
   "metadata": {},
   "outputs": [],
   "source": [
    "# select units with FLAG infomation\n",
    "unit_unique = np.array(['units', 'mEq/L', 'mmol/L', 'mm Hg', 'mg/dL', 'ug/mL', '%',\n",
    "       'IU/L', 'g/dL', 'pg', 'fL', 'K/uL', 'm/uL', 'EU/dL', ' ', '#/hpf',\n",
    "       '#/lpf', 'ng/mL', 'ng/ml', 'sec', 'SECONDS', 'Ratio', '#/uL',\n",
    "       'mOsm/kg', 'ug/dL', 'uU/ML', 'uG/DL', 'MG/DL', 'uIU/mL',\n",
    "       'pg/mL', 'ng/dL', 'mm/hr', 'umol/L', 'mg/L', 'mIU/mL',\n",
    "       'GPL', 'MPL', 'MOSM/L', 'mg/g', 'IU/mL',\n",
    "       'Score', 'U/mL', 'ng/dl',\n",
    "       'mIU/L', 'MOSM/KG', 'ug/ml', 'NG/DL', 'U/g/Hb',\n",
    "       'ug/L', 'nG/mL', 'mL/min', 'min', 'nG/ML', 'RATIO',\n",
    "       'U', '/mm3', 'nmol/L'], dtype=object)"
   ]
  },
  {
   "cell_type": "code",
   "execution_count": 56,
   "metadata": {},
   "outputs": [],
   "source": [
    "demo = pd.read_csv('demographic_without_one_hot.csv')"
   ]
  },
  {
   "cell_type": "code",
   "execution_count": 57,
   "metadata": {},
   "outputs": [
    {
     "data": {
      "text/plain": [
       "(36655, 2)"
      ]
     },
     "execution_count": 57,
     "metadata": {},
     "output_type": "execute_result"
    }
   ],
   "source": [
    "df_label =  demo[['SUBJECT_ID','1_yr_mortality']]\n",
    "df_label.shape"
   ]
  },
  {
   "cell_type": "code",
   "execution_count": 58,
   "metadata": {},
   "outputs": [
    {
     "name": "stdout",
     "output_type": "stream",
     "text": [
      "units\n",
      "mEq/L\n",
      "mmol/L\n",
      "mm Hg\n",
      "mg/dL\n",
      "ug/mL\n",
      "%\n",
      "IU/L\n",
      "g/dL\n",
      "pg\n",
      "fL\n",
      "K/uL\n",
      "m/uL\n",
      "EU/dL\n",
      " \n",
      "#/hpf\n",
      "#/lpf\n",
      "ng/mL\n",
      "ng/ml\n",
      "sec\n",
      "SECONDS\n",
      "Ratio\n",
      "#/uL\n",
      "mOsm/kg\n",
      "ug/dL\n",
      "uU/ML\n",
      "uG/DL\n",
      "MG/DL\n",
      "uIU/mL\n",
      "pg/mL\n",
      "ng/dL\n",
      "mm/hr\n",
      "umol/L\n",
      "mg/L\n",
      "mIU/mL\n",
      "GPL\n",
      "MPL\n",
      "MOSM/L\n",
      "mg/g\n",
      "IU/mL\n",
      "Score\n",
      "U/mL\n",
      "ng/dl\n",
      "mIU/L\n",
      "MOSM/KG\n",
      "ug/ml\n",
      "NG/DL\n",
      "U/g/Hb\n",
      "ug/L\n",
      "nG/mL\n",
      "mL/min\n",
      "min\n",
      "nG/ML\n",
      "RATIO\n",
      "U\n",
      "/mm3\n",
      "nmol/L\n"
     ]
    }
   ],
   "source": [
    "#create abnormal features for every unit\n",
    "for i in range(len(unit_unique)):\n",
    "    unit = labevents[(labevents['VALUEUOM'] == unit_unique[i])][['SUBJECT_ID','FLAG']]\n",
    "    # Get one hot encoding of columns FLAG\n",
    "    one_hot_unit = pd.get_dummies(unit['FLAG'])\n",
    "    # Drop column unit as it is now encoded\n",
    "    unit = unit.drop('FLAG',axis = 1)\n",
    "    # Join the encoded df\n",
    "    unit = unit.join(one_hot_unit)\n",
    "    print(unit_unique[i])\n",
    "    _, col = unit.shape\n",
    "    if col ==1:\n",
    "        print(unit_unique[i],unit_unique[i])\n",
    "        continue\n",
    "    unit_flag = unit.groupby(['SUBJECT_ID'])['abnormal'].apply(lambda g: g.sum() / len(g))\n",
    "    unit_flag = pd.DataFrame(unit_flag)\n",
    "    df_label = pd.merge(df_label, unit_flag,left_on=['SUBJECT_ID'], right_on=['SUBJECT_ID'], how = 'left')"
   ]
  },
  {
   "cell_type": "code",
   "execution_count": 59,
   "metadata": {},
   "outputs": [],
   "source": [
    "#select top 23 features\n",
    "df_label = df_label.iloc[:,:25]\n",
    "df_label = df_label.fillna(0)\n",
    "df_label.columns = df_label.columns[:2].tolist() + unit_unique[:23].tolist()\n",
    "df_label = df_label.drop('1_yr_mortality', axis = 1)"
   ]
  },
  {
   "cell_type": "code",
   "execution_count": 60,
   "metadata": {},
   "outputs": [
    {
     "data": {
      "text/html": [
       "<div>\n",
       "<style scoped>\n",
       "    .dataframe tbody tr th:only-of-type {\n",
       "        vertical-align: middle;\n",
       "    }\n",
       "\n",
       "    .dataframe tbody tr th {\n",
       "        vertical-align: top;\n",
       "    }\n",
       "\n",
       "    .dataframe thead th {\n",
       "        text-align: right;\n",
       "    }\n",
       "</style>\n",
       "<table border=\"1\" class=\"dataframe\">\n",
       "  <thead>\n",
       "    <tr style=\"text-align: right;\">\n",
       "      <th></th>\n",
       "      <th>SUBJECT_ID</th>\n",
       "      <th>units</th>\n",
       "      <th>mEq/L</th>\n",
       "      <th>mmol/L</th>\n",
       "      <th>mm Hg</th>\n",
       "      <th>mg/dL</th>\n",
       "      <th>ug/mL</th>\n",
       "      <th>%</th>\n",
       "      <th>IU/L</th>\n",
       "      <th>g/dL</th>\n",
       "      <th>...</th>\n",
       "      <th>EU/dL</th>\n",
       "      <th></th>\n",
       "      <th>#/hpf</th>\n",
       "      <th>#/lpf</th>\n",
       "      <th>ng/mL</th>\n",
       "      <th>ng/ml</th>\n",
       "      <th>sec</th>\n",
       "      <th>SECONDS</th>\n",
       "      <th>Ratio</th>\n",
       "      <th>#/uL</th>\n",
       "    </tr>\n",
       "  </thead>\n",
       "  <tbody>\n",
       "    <tr>\n",
       "      <th>0</th>\n",
       "      <td>22</td>\n",
       "      <td>0.000000</td>\n",
       "      <td>0.083333</td>\n",
       "      <td>0.000000</td>\n",
       "      <td>0.000</td>\n",
       "      <td>0.052632</td>\n",
       "      <td>0.0</td>\n",
       "      <td>0.125000</td>\n",
       "      <td>0.000000</td>\n",
       "      <td>0.000000</td>\n",
       "      <td>...</td>\n",
       "      <td>0.0</td>\n",
       "      <td>0.0</td>\n",
       "      <td>0.000000</td>\n",
       "      <td>0.0</td>\n",
       "      <td>0.000</td>\n",
       "      <td>0.0</td>\n",
       "      <td>0.000000</td>\n",
       "      <td>0.0</td>\n",
       "      <td>0.0</td>\n",
       "      <td>0.0</td>\n",
       "    </tr>\n",
       "    <tr>\n",
       "      <th>1</th>\n",
       "      <td>23</td>\n",
       "      <td>0.470588</td>\n",
       "      <td>0.045455</td>\n",
       "      <td>0.555556</td>\n",
       "      <td>0.700</td>\n",
       "      <td>0.352273</td>\n",
       "      <td>1.0</td>\n",
       "      <td>0.476190</td>\n",
       "      <td>0.000000</td>\n",
       "      <td>0.857143</td>\n",
       "      <td>...</td>\n",
       "      <td>0.0</td>\n",
       "      <td>0.5</td>\n",
       "      <td>0.000000</td>\n",
       "      <td>0.0</td>\n",
       "      <td>0.000</td>\n",
       "      <td>0.0</td>\n",
       "      <td>0.250000</td>\n",
       "      <td>0.0</td>\n",
       "      <td>0.0</td>\n",
       "      <td>0.0</td>\n",
       "    </tr>\n",
       "    <tr>\n",
       "      <th>2</th>\n",
       "      <td>24</td>\n",
       "      <td>0.000000</td>\n",
       "      <td>0.000000</td>\n",
       "      <td>0.000000</td>\n",
       "      <td>0.500</td>\n",
       "      <td>0.080000</td>\n",
       "      <td>0.0</td>\n",
       "      <td>0.166667</td>\n",
       "      <td>0.400000</td>\n",
       "      <td>0.000000</td>\n",
       "      <td>...</td>\n",
       "      <td>0.0</td>\n",
       "      <td>0.0</td>\n",
       "      <td>0.000000</td>\n",
       "      <td>0.0</td>\n",
       "      <td>0.500</td>\n",
       "      <td>0.0</td>\n",
       "      <td>0.000000</td>\n",
       "      <td>0.0</td>\n",
       "      <td>0.0</td>\n",
       "      <td>0.0</td>\n",
       "    </tr>\n",
       "    <tr>\n",
       "      <th>3</th>\n",
       "      <td>25</td>\n",
       "      <td>0.555556</td>\n",
       "      <td>0.140625</td>\n",
       "      <td>0.166667</td>\n",
       "      <td>0.625</td>\n",
       "      <td>0.563636</td>\n",
       "      <td>0.0</td>\n",
       "      <td>0.434783</td>\n",
       "      <td>0.666667</td>\n",
       "      <td>1.000000</td>\n",
       "      <td>...</td>\n",
       "      <td>0.0</td>\n",
       "      <td>0.0</td>\n",
       "      <td>0.000000</td>\n",
       "      <td>0.0</td>\n",
       "      <td>0.625</td>\n",
       "      <td>1.0</td>\n",
       "      <td>0.375000</td>\n",
       "      <td>0.0</td>\n",
       "      <td>0.0</td>\n",
       "      <td>0.0</td>\n",
       "    </tr>\n",
       "    <tr>\n",
       "      <th>4</th>\n",
       "      <td>26</td>\n",
       "      <td>0.000000</td>\n",
       "      <td>0.000000</td>\n",
       "      <td>0.000000</td>\n",
       "      <td>0.000</td>\n",
       "      <td>0.557692</td>\n",
       "      <td>0.0</td>\n",
       "      <td>0.428571</td>\n",
       "      <td>0.000000</td>\n",
       "      <td>1.000000</td>\n",
       "      <td>...</td>\n",
       "      <td>0.5</td>\n",
       "      <td>0.0</td>\n",
       "      <td>0.333333</td>\n",
       "      <td>1.0</td>\n",
       "      <td>0.000</td>\n",
       "      <td>0.0</td>\n",
       "      <td>0.454545</td>\n",
       "      <td>0.0</td>\n",
       "      <td>0.0</td>\n",
       "      <td>0.0</td>\n",
       "    </tr>\n",
       "  </tbody>\n",
       "</table>\n",
       "<p>5 rows × 24 columns</p>\n",
       "</div>"
      ],
      "text/plain": [
       "   SUBJECT_ID     units     mEq/L    mmol/L  mm Hg     mg/dL  ug/mL         %  \\\n",
       "0          22  0.000000  0.083333  0.000000  0.000  0.052632    0.0  0.125000   \n",
       "1          23  0.470588  0.045455  0.555556  0.700  0.352273    1.0  0.476190   \n",
       "2          24  0.000000  0.000000  0.000000  0.500  0.080000    0.0  0.166667   \n",
       "3          25  0.555556  0.140625  0.166667  0.625  0.563636    0.0  0.434783   \n",
       "4          26  0.000000  0.000000  0.000000  0.000  0.557692    0.0  0.428571   \n",
       "\n",
       "       IU/L      g/dL  ...  EU/dL          #/hpf  #/lpf  ng/mL  ng/ml  \\\n",
       "0  0.000000  0.000000  ...    0.0  0.0  0.000000    0.0  0.000    0.0   \n",
       "1  0.000000  0.857143  ...    0.0  0.5  0.000000    0.0  0.000    0.0   \n",
       "2  0.400000  0.000000  ...    0.0  0.0  0.000000    0.0  0.500    0.0   \n",
       "3  0.666667  1.000000  ...    0.0  0.0  0.000000    0.0  0.625    1.0   \n",
       "4  0.000000  1.000000  ...    0.5  0.0  0.333333    1.0  0.000    0.0   \n",
       "\n",
       "        sec  SECONDS  Ratio  #/uL  \n",
       "0  0.000000      0.0    0.0   0.0  \n",
       "1  0.250000      0.0    0.0   0.0  \n",
       "2  0.000000      0.0    0.0   0.0  \n",
       "3  0.375000      0.0    0.0   0.0  \n",
       "4  0.454545      0.0    0.0   0.0  \n",
       "\n",
       "[5 rows x 24 columns]"
      ]
     },
     "execution_count": 60,
     "metadata": {},
     "output_type": "execute_result"
    }
   ],
   "source": [
    "df_label.head()"
   ]
  },
  {
   "cell_type": "code",
   "execution_count": 61,
   "metadata": {},
   "outputs": [
    {
     "data": {
      "text/plain": [
       "(36655, 24)"
      ]
     },
     "execution_count": 61,
     "metadata": {},
     "output_type": "execute_result"
    }
   ],
   "source": [
    "df_label.shape"
   ]
  },
  {
   "cell_type": "markdown",
   "metadata": {},
   "source": [
    "### Save lab abnormal percentage features  as csv file\n",
    "- save finalized abnormal percentage features to csv file 'lab_abnormal.csv' along with 'SUBJECT_ID'"
   ]
  },
  {
   "cell_type": "code",
   "execution_count": 62,
   "metadata": {},
   "outputs": [],
   "source": [
    "df_label.to_csv(r'lab_abnormal.csv',header = True)"
   ]
  },
  {
   "cell_type": "markdown",
   "metadata": {},
   "source": [
    "### Lab results (Part II)\n",
    "- get min, max and mean values for each lab test"
   ]
  },
  {
   "cell_type": "code",
   "execution_count": null,
   "metadata": {},
   "outputs": [],
   "source": [
    "import numpy as np\n",
    "import pandas as pd\n",
    "import time as time\n",
    "admission = pd.read_csv('MIMIC/MIMIC/ADMISSIONS.csv')\n",
    "bmi =  ['units', 'mEq/L', 'mmol/L', 'mm Hg', 'mg/dL', 'ug/mL', '%',\n",
    "       'IU/L', 'g/dL', 'pg', 'fL', 'K/uL', 'm/uL', 'EU/dL', '#/hpf',\n",
    "       '#/lpf', 'ng/mL', 'ng/ml', 'sec', 'SECONDS', 'Ratio', '#/uL',\n",
    "       'mOsm/kg', 'ug/dL', 'uU/ML', 'uG/DL', 'MG/DL', 'L/min', 'uIU/mL',\n",
    "       'pg/mL', '+/-', 'ng/dL', 'mm/hr', 'umol/L', 'mg/L', 'mIU/mL',\n",
    "       'GPL', 'MPL', 'MEQ/L', 'MM HG', 'UNITS', 'MOSM/L', 'mg/g', 'IU/mL',\n",
    "       'Pos/Neg', 'mg/24hr', 'mL', 'Score', 'U/mL', 'mg/24hours', 'ng/dl',\n",
    "       'mIU/L', 'MOSM/KG']\n",
    "\n",
    "new_bmi = []\n",
    "for e_bmi in bmi:\n",
    "    new_bmi.append(e_bmi+'_max')\n",
    "    new_bmi.append(e_bmi+'_min')\n",
    "    new_bmi.append(e_bmi+'_mean')\n",
    "new_bmi = np.concatenate((['SUBJECT_ID'], new_bmi))\n",
    "df_labEvents_features = pd.DataFrame(columns=new_bmi)\n",
    "df_labEvents_features['SUBJECT_ID'] = admission['SUBJECT_ID'].unique()\n",
    "LabEvents_df = pd.read_csv('MIMIC/MIMIC/LABEVENTS.csv')\n",
    "LabEvents_df = LabEvents_df[np.isfinite(LabEvents_df['VALUENUM'])]\n",
    "st_time = time.time()\n",
    "\n",
    "id_list = LabEvents_df['SUBJECT_ID'].unique()\n",
    "print('Start feature extracting')\n",
    "print('Total Length of id: ', id_list.shape[0])\n",
    "for step, e_id in enumerate(id_list):\n",
    "    sj_id_labevents = LabEvents_df.loc[LabEvents_df['SUBJECT_ID'] == e_id] \n",
    "    if not sj_id_labevents.empty:\n",
    "        for e_bmi in bmi:\n",
    "            sj_bmi_labevents = sj_id_labevents[sj_id_labevents['VALUEUOM'] == e_bmi]['VALUENUM'].values\n",
    "            if not sj_bmi_labevents.shape[0] == 0:\n",
    "                max_value = sj_bmi_labevents.max()\n",
    "                min_value = sj_bmi_labevents.min()\n",
    "                mean_value = sj_bmi_labevents.mean()\n",
    "                df_labEvents_features.loc[df_labEvents_features['SUBJECT_ID'] == e_id, [e_bmi + '_max']] = max_value\n",
    "                df_labEvents_features.loc[df_labEvents_features['SUBJECT_ID'] == e_id, [e_bmi + '_min']] = min_value\n",
    "                df_labEvents_features.loc[df_labEvents_features['SUBJECT_ID'] == e_id, [e_bmi + '_mean']] = mean_value\n",
    "    if step % 100 == 0:\n",
    "        print(\"Duration: \", time.time()-st_time)\n",
    "        print(\"Current step: \", step)\n",
    "df_labEvents_features.fillna(0)"
   ]
  },
  {
   "cell_type": "markdown",
   "metadata": {},
   "source": [
    "### Save lab value features  as csv file\n"
   ]
  },
  {
   "cell_type": "code",
   "execution_count": null,
   "metadata": {},
   "outputs": [],
   "source": [
    "df_labEvents_features.to_csv('LabEvents_features.csv')"
   ]
  },
  {
   "cell_type": "markdown",
   "metadata": {},
   "source": [
    "### Prescription results\n",
    " - > get number of each drug for each patient"
   ]
  },
  {
   "cell_type": "code",
   "execution_count": null,
   "metadata": {},
   "outputs": [],
   "source": [
    "import numpy as np\n",
    "import pandas as pd\n",
    "import time as time\n",
    "admission = pd.read_csv('MIMIC/MIMIC/ADMISSIONS.csv')\n",
    "df_prescription = pd.read_csv('MIMIC/MIMIC/PRESCRIPTIONS.csv')\n",
    "drug_focus = df_prescription['DRUG'].value_counts()[:20].index\n",
    "drug_name = drug_focus\n",
    "\n",
    "n_drug_name = np.concatenate((['SUBJECT_ID'], drug_name))\n",
    "df_prescription_features = pd.DataFrame(columns=n_drug_name)\n",
    "df_prescription_features['SUBJECT_ID'] = admission['SUBJECT_ID'].unique()\n",
    "st_time = time.time()\n",
    "\n",
    "id_list = df_prescription['SUBJECT_ID'].unique()\n",
    "print('Start feature extracting')\n",
    "print('Total Length of id: ', id_list.shape[0])\n",
    "for step, e_id in enumerate(id_list):\n",
    "    sj_id_pres = df_prescription.loc[df_prescription['SUBJECT_ID'] == e_id] \n",
    "    if not sj_id_pres.empty:\n",
    "        for e_drug in drug_name:\n",
    "            df_prescription_features.loc[df_prescription_features['SUBJECT_ID'] == e_id, [e_drug]] = sj_id_pres[sj_id_pres['DRUG']==e_drug].shape[0]\n",
    "    if step % 100 == 0:\n",
    "        print('Current Step ', step)\n",
    "        print('Duration ', time.time()-st_time)\n",
    "        \n",
    "df_prescription_features.fillna(0)\n"
   ]
  },
  {
   "cell_type": "markdown",
   "metadata": {},
   "source": [
    "### Save prescription features  as csv file"
   ]
  },
  {
   "cell_type": "code",
   "execution_count": null,
   "metadata": {},
   "outputs": [],
   "source": [
    "df_prescription_features.to_csv('Prescription_features.csv')"
   ]
  }
 ],
 "metadata": {
  "kernelspec": {
   "display_name": "Python 3",
   "language": "python",
   "name": "python3"
  },
  "language_info": {
   "codemirror_mode": {
    "name": "ipython",
    "version": 3
   },
   "file_extension": ".py",
   "mimetype": "text/x-python",
   "name": "python",
   "nbconvert_exporter": "python",
   "pygments_lexer": "ipython3",
   "version": "3.7.1"
  }
 },
 "nbformat": 4,
 "nbformat_minor": 2
}
